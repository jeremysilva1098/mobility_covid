{
 "cells": [
  {
   "cell_type": "code",
   "execution_count": 618,
   "metadata": {},
   "outputs": [],
   "source": [
    "import pandas as pd\n",
    "import matplotlib.pyplot as plt\n",
    "%matplotlib inline\n",
    "import seaborn as sns \n",
    "import numpy as np\n",
    "\n",
    "from sklearn.model_selection import train_test_split, cross_val_score\n",
    "from sklearn.preprocessing import StandardScaler\n",
    "\n",
    "from sklearn import linear_model\n",
    "from sklearn.model_selection import GridSearchCV, RandomizedSearchCV\n"
   ]
  },
  {
   "cell_type": "code",
   "execution_count": 619,
   "metadata": {},
   "outputs": [],
   "source": [
    "full_df= pd.read_csv('Data/full_data_growth_included.csv', index_col=0)"
   ]
  },
  {
   "cell_type": "code",
   "execution_count": 620,
   "metadata": {},
   "outputs": [
    {
     "data": {
      "text/html": [
       "<div>\n",
       "<style scoped>\n",
       "    .dataframe tbody tr th:only-of-type {\n",
       "        vertical-align: middle;\n",
       "    }\n",
       "\n",
       "    .dataframe tbody tr th {\n",
       "        vertical-align: top;\n",
       "    }\n",
       "\n",
       "    .dataframe thead th {\n",
       "        text-align: right;\n",
       "    }\n",
       "</style>\n",
       "<table border=\"1\" class=\"dataframe\">\n",
       "  <thead>\n",
       "    <tr style=\"text-align: right;\">\n",
       "      <th></th>\n",
       "      <th>state</th>\n",
       "      <th>date</th>\n",
       "      <th>retail_and_recreation</th>\n",
       "      <th>grocery_and_pharmacy</th>\n",
       "      <th>parks</th>\n",
       "      <th>transit</th>\n",
       "      <th>workplace</th>\n",
       "      <th>residential</th>\n",
       "      <th>driving gps hits</th>\n",
       "      <th>transit gps hits</th>\n",
       "      <th>walking gps hits</th>\n",
       "      <th>cases</th>\n",
       "      <th>deaths</th>\n",
       "      <th>Growth Rate</th>\n",
       "      <th>Num New Cases</th>\n",
       "    </tr>\n",
       "  </thead>\n",
       "  <tbody>\n",
       "    <tr>\n",
       "      <th>0</th>\n",
       "      <td>Alabama</td>\n",
       "      <td>2020-03-13</td>\n",
       "      <td>7.0</td>\n",
       "      <td>32.0</td>\n",
       "      <td>26.0</td>\n",
       "      <td>7.0</td>\n",
       "      <td>-2.0</td>\n",
       "      <td>0.0</td>\n",
       "      <td>160.430000</td>\n",
       "      <td>110.95</td>\n",
       "      <td>110.84</td>\n",
       "      <td>6</td>\n",
       "      <td>0</td>\n",
       "      <td>NaN</td>\n",
       "      <td>NaN</td>\n",
       "    </tr>\n",
       "    <tr>\n",
       "      <th>1</th>\n",
       "      <td>Alabama</td>\n",
       "      <td>2020-03-14</td>\n",
       "      <td>1.0</td>\n",
       "      <td>28.0</td>\n",
       "      <td>55.0</td>\n",
       "      <td>12.0</td>\n",
       "      <td>4.0</td>\n",
       "      <td>0.0</td>\n",
       "      <td>169.976429</td>\n",
       "      <td>116.64</td>\n",
       "      <td>114.48</td>\n",
       "      <td>12</td>\n",
       "      <td>0</td>\n",
       "      <td>100.000000</td>\n",
       "      <td>6.0</td>\n",
       "    </tr>\n",
       "    <tr>\n",
       "      <th>2</th>\n",
       "      <td>Alabama</td>\n",
       "      <td>2020-03-15</td>\n",
       "      <td>-7.0</td>\n",
       "      <td>16.0</td>\n",
       "      <td>16.0</td>\n",
       "      <td>6.0</td>\n",
       "      <td>-4.0</td>\n",
       "      <td>2.0</td>\n",
       "      <td>119.303036</td>\n",
       "      <td>78.24</td>\n",
       "      <td>59.90</td>\n",
       "      <td>23</td>\n",
       "      <td>0</td>\n",
       "      <td>91.666667</td>\n",
       "      <td>11.0</td>\n",
       "    </tr>\n",
       "    <tr>\n",
       "      <th>3</th>\n",
       "      <td>Alabama</td>\n",
       "      <td>2020-03-16</td>\n",
       "      <td>-2.0</td>\n",
       "      <td>24.0</td>\n",
       "      <td>22.0</td>\n",
       "      <td>2.0</td>\n",
       "      <td>-10.0</td>\n",
       "      <td>4.0</td>\n",
       "      <td>116.498750</td>\n",
       "      <td>91.18</td>\n",
       "      <td>77.73</td>\n",
       "      <td>29</td>\n",
       "      <td>0</td>\n",
       "      <td>26.086957</td>\n",
       "      <td>6.0</td>\n",
       "    </tr>\n",
       "    <tr>\n",
       "      <th>4</th>\n",
       "      <td>Alabama</td>\n",
       "      <td>2020-03-17</td>\n",
       "      <td>-11.0</td>\n",
       "      <td>17.0</td>\n",
       "      <td>25.0</td>\n",
       "      <td>-1.0</td>\n",
       "      <td>-17.0</td>\n",
       "      <td>7.0</td>\n",
       "      <td>107.171250</td>\n",
       "      <td>84.92</td>\n",
       "      <td>72.97</td>\n",
       "      <td>39</td>\n",
       "      <td>0</td>\n",
       "      <td>34.482759</td>\n",
       "      <td>10.0</td>\n",
       "    </tr>\n",
       "  </tbody>\n",
       "</table>\n",
       "</div>"
      ],
      "text/plain": [
       "     state        date  retail_and_recreation  grocery_and_pharmacy  parks  \\\n",
       "0  Alabama  2020-03-13                    7.0                  32.0   26.0   \n",
       "1  Alabama  2020-03-14                    1.0                  28.0   55.0   \n",
       "2  Alabama  2020-03-15                   -7.0                  16.0   16.0   \n",
       "3  Alabama  2020-03-16                   -2.0                  24.0   22.0   \n",
       "4  Alabama  2020-03-17                  -11.0                  17.0   25.0   \n",
       "\n",
       "   transit  workplace  residential  driving gps hits  transit gps hits  \\\n",
       "0      7.0       -2.0          0.0        160.430000            110.95   \n",
       "1     12.0        4.0          0.0        169.976429            116.64   \n",
       "2      6.0       -4.0          2.0        119.303036             78.24   \n",
       "3      2.0      -10.0          4.0        116.498750             91.18   \n",
       "4     -1.0      -17.0          7.0        107.171250             84.92   \n",
       "\n",
       "   walking gps hits  cases  deaths  Growth Rate  Num New Cases  \n",
       "0            110.84      6       0          NaN            NaN  \n",
       "1            114.48     12       0   100.000000            6.0  \n",
       "2             59.90     23       0    91.666667           11.0  \n",
       "3             77.73     29       0    26.086957            6.0  \n",
       "4             72.97     39       0    34.482759           10.0  "
      ]
     },
     "execution_count": 620,
     "metadata": {},
     "output_type": "execute_result"
    }
   ],
   "source": [
    "full_df.head()"
   ]
  },
  {
   "cell_type": "code",
   "execution_count": 621,
   "metadata": {},
   "outputs": [
    {
     "data": {
      "text/html": [
       "<div>\n",
       "<style scoped>\n",
       "    .dataframe tbody tr th:only-of-type {\n",
       "        vertical-align: middle;\n",
       "    }\n",
       "\n",
       "    .dataframe tbody tr th {\n",
       "        vertical-align: top;\n",
       "    }\n",
       "\n",
       "    .dataframe thead th {\n",
       "        text-align: right;\n",
       "    }\n",
       "</style>\n",
       "<table border=\"1\" class=\"dataframe\">\n",
       "  <thead>\n",
       "    <tr style=\"text-align: right;\">\n",
       "      <th></th>\n",
       "      <th>state</th>\n",
       "      <th>date</th>\n",
       "      <th>retail_and_recreation</th>\n",
       "      <th>grocery_and_pharmacy</th>\n",
       "      <th>parks</th>\n",
       "      <th>transit</th>\n",
       "      <th>workplace</th>\n",
       "      <th>residential</th>\n",
       "      <th>driving gps hits</th>\n",
       "      <th>transit gps hits</th>\n",
       "      <th>walking gps hits</th>\n",
       "      <th>cases</th>\n",
       "      <th>deaths</th>\n",
       "      <th>Growth Rate</th>\n",
       "      <th>Num New Cases</th>\n",
       "    </tr>\n",
       "  </thead>\n",
       "  <tbody>\n",
       "    <tr>\n",
       "      <th>450</th>\n",
       "      <td>California</td>\n",
       "      <td>2020-02-15</td>\n",
       "      <td>1.0</td>\n",
       "      <td>1.0</td>\n",
       "      <td>19.0</td>\n",
       "      <td>1.0</td>\n",
       "      <td>-1.0</td>\n",
       "      <td>0.0</td>\n",
       "      <td>149.625000</td>\n",
       "      <td>98.747059</td>\n",
       "      <td>161.364286</td>\n",
       "      <td>7</td>\n",
       "      <td>0</td>\n",
       "      <td>0.0</td>\n",
       "      <td>0.0</td>\n",
       "    </tr>\n",
       "    <tr>\n",
       "      <th>451</th>\n",
       "      <td>California</td>\n",
       "      <td>2020-02-16</td>\n",
       "      <td>5.0</td>\n",
       "      <td>0.0</td>\n",
       "      <td>31.0</td>\n",
       "      <td>1.0</td>\n",
       "      <td>-1.0</td>\n",
       "      <td>-1.0</td>\n",
       "      <td>128.067973</td>\n",
       "      <td>85.542941</td>\n",
       "      <td>127.493810</td>\n",
       "      <td>7</td>\n",
       "      <td>0</td>\n",
       "      <td>0.0</td>\n",
       "      <td>0.0</td>\n",
       "    </tr>\n",
       "    <tr>\n",
       "      <th>452</th>\n",
       "      <td>California</td>\n",
       "      <td>2020-02-17</td>\n",
       "      <td>9.0</td>\n",
       "      <td>1.0</td>\n",
       "      <td>44.0</td>\n",
       "      <td>-12.0</td>\n",
       "      <td>-38.0</td>\n",
       "      <td>8.0</td>\n",
       "      <td>131.830676</td>\n",
       "      <td>98.512353</td>\n",
       "      <td>119.583333</td>\n",
       "      <td>7</td>\n",
       "      <td>0</td>\n",
       "      <td>0.0</td>\n",
       "      <td>0.0</td>\n",
       "    </tr>\n",
       "    <tr>\n",
       "      <th>453</th>\n",
       "      <td>California</td>\n",
       "      <td>2020-02-18</td>\n",
       "      <td>0.0</td>\n",
       "      <td>0.0</td>\n",
       "      <td>16.0</td>\n",
       "      <td>3.0</td>\n",
       "      <td>0.0</td>\n",
       "      <td>0.0</td>\n",
       "      <td>114.652568</td>\n",
       "      <td>110.847059</td>\n",
       "      <td>109.419524</td>\n",
       "      <td>7</td>\n",
       "      <td>0</td>\n",
       "      <td>0.0</td>\n",
       "      <td>0.0</td>\n",
       "    </tr>\n",
       "    <tr>\n",
       "      <th>454</th>\n",
       "      <td>California</td>\n",
       "      <td>2020-02-19</td>\n",
       "      <td>0.0</td>\n",
       "      <td>0.0</td>\n",
       "      <td>13.0</td>\n",
       "      <td>1.0</td>\n",
       "      <td>0.0</td>\n",
       "      <td>0.0</td>\n",
       "      <td>115.025946</td>\n",
       "      <td>110.649412</td>\n",
       "      <td>112.455238</td>\n",
       "      <td>7</td>\n",
       "      <td>0</td>\n",
       "      <td>0.0</td>\n",
       "      <td>0.0</td>\n",
       "    </tr>\n",
       "  </tbody>\n",
       "</table>\n",
       "</div>"
      ],
      "text/plain": [
       "          state        date  retail_and_recreation  grocery_and_pharmacy  \\\n",
       "450  California  2020-02-15                    1.0                   1.0   \n",
       "451  California  2020-02-16                    5.0                   0.0   \n",
       "452  California  2020-02-17                    9.0                   1.0   \n",
       "453  California  2020-02-18                    0.0                   0.0   \n",
       "454  California  2020-02-19                    0.0                   0.0   \n",
       "\n",
       "     parks  transit  workplace  residential  driving gps hits  \\\n",
       "450   19.0      1.0       -1.0          0.0        149.625000   \n",
       "451   31.0      1.0       -1.0         -1.0        128.067973   \n",
       "452   44.0    -12.0      -38.0          8.0        131.830676   \n",
       "453   16.0      3.0        0.0          0.0        114.652568   \n",
       "454   13.0      1.0        0.0          0.0        115.025946   \n",
       "\n",
       "     transit gps hits  walking gps hits  cases  deaths  Growth Rate  \\\n",
       "450         98.747059        161.364286      7       0          0.0   \n",
       "451         85.542941        127.493810      7       0          0.0   \n",
       "452         98.512353        119.583333      7       0          0.0   \n",
       "453        110.847059        109.419524      7       0          0.0   \n",
       "454        110.649412        112.455238      7       0          0.0   \n",
       "\n",
       "     Num New Cases  \n",
       "450            0.0  \n",
       "451            0.0  \n",
       "452            0.0  \n",
       "453            0.0  \n",
       "454            0.0  "
      ]
     },
     "execution_count": 621,
     "metadata": {},
     "output_type": "execute_result"
    }
   ],
   "source": [
    "# Extract California dataset\n",
    "ca= full_df[full_df['state'] == 'California']\n",
    "ca.head()"
   ]
  },
  {
   "cell_type": "code",
   "execution_count": 622,
   "metadata": {},
   "outputs": [
    {
     "name": "stdout",
     "output_type": "stream",
     "text": [
      "<class 'pandas.core.frame.DataFrame'>\n",
      "Int64Index: 132 entries, 450 to 581\n",
      "Data columns (total 15 columns):\n",
      " #   Column                 Non-Null Count  Dtype  \n",
      "---  ------                 --------------  -----  \n",
      " 0   state                  132 non-null    object \n",
      " 1   date                   132 non-null    object \n",
      " 2   retail_and_recreation  132 non-null    float64\n",
      " 3   grocery_and_pharmacy   132 non-null    float64\n",
      " 4   parks                  132 non-null    float64\n",
      " 5   transit                132 non-null    float64\n",
      " 6   workplace              132 non-null    float64\n",
      " 7   residential            132 non-null    float64\n",
      " 8   driving gps hits       132 non-null    float64\n",
      " 9   transit gps hits       132 non-null    float64\n",
      " 10  walking gps hits       132 non-null    float64\n",
      " 11  cases                  132 non-null    int64  \n",
      " 12  deaths                 132 non-null    int64  \n",
      " 13  Growth Rate            132 non-null    float64\n",
      " 14  Num New Cases          132 non-null    float64\n",
      "dtypes: float64(11), int64(2), object(2)\n",
      "memory usage: 16.5+ KB\n"
     ]
    }
   ],
   "source": [
    "ca.info()"
   ]
  },
  {
   "cell_type": "code",
   "execution_count": 623,
   "metadata": {},
   "outputs": [
    {
     "name": "stdout",
     "output_type": "stream",
     "text": [
      "The California data starts on 2020-02-15 and runs through 2020-06-27.\n"
     ]
    }
   ],
   "source": [
    "ca_start_date= ca.date.min()\n",
    "ca_end_date= ca.date.max()\n",
    "print('The California data starts on {} and runs through {}.'.format(ca_start_date, ca_end_date))"
   ]
  },
  {
   "cell_type": "markdown",
   "metadata": {},
   "source": [
    "### Modeling without Adjustment"
   ]
  },
  {
   "cell_type": "code",
   "execution_count": 624,
   "metadata": {},
   "outputs": [],
   "source": [
    "# We will do a manual train and test split of the data. Because there are 132 days in the dataset I will use the first\n",
    "# 93 days for training (70%) and the rest of the days for testing \n",
    "x_train= ca[:93].drop(columns=['state', 'date', 'cases', 'deaths', 'Growth Rate', 'Num New Cases'])\n",
    "x_test= ca[93:].drop(columns=['state', 'date', 'cases', 'deaths', 'Growth Rate', 'Num New Cases'])\n",
    "y_train= pd.DataFrame(ca['Num New Cases'][:93])\n",
    "y_test= pd.DataFrame(ca['Num New Cases'][93:])\n"
   ]
  },
  {
   "cell_type": "code",
   "execution_count": 625,
   "metadata": {},
   "outputs": [
    {
     "name": "stdout",
     "output_type": "stream",
     "text": [
      "(93, 9)\n",
      "(39, 9)\n"
     ]
    }
   ],
   "source": [
    "# scaling data\n",
    "scaler = StandardScaler()\n",
    "x_train = scaler.fit_transform(x_train)\n",
    "x_test = scaler.transform(x_test)\n",
    "\n",
    "print(x_train.shape)\n",
    "print(x_test.shape)"
   ]
  },
  {
   "cell_type": "code",
   "execution_count": 626,
   "metadata": {},
   "outputs": [],
   "source": [
    "# define models\n",
    "linear= linear_model.LinearRegression()\n",
    "ridge = linear_model.Ridge()\n",
    "lasso = linear_model.Lasso()\n",
    "elastic = linear_model.ElasticNet()\n",
    "lasso_lars = linear_model.LassoLars()\n",
    "bayesian_ridge = linear_model.BayesianRidge()"
   ]
  },
  {
   "cell_type": "code",
   "execution_count": 627,
   "metadata": {},
   "outputs": [],
   "source": [
    "models = [linear, ridge, lasso, elastic, lasso_lars, bayesian_ridge]"
   ]
  },
  {
   "cell_type": "code",
   "execution_count": 628,
   "metadata": {},
   "outputs": [
    {
     "name": "stdout",
     "output_type": "stream",
     "text": [
      "LinearRegression(copy_X=True, fit_intercept=True, n_jobs=None, normalize=False) score: 0.6844749342255709\n",
      "\n",
      "\n",
      "Ridge(alpha=1.0, copy_X=True, fit_intercept=True, max_iter=None,\n",
      "      normalize=False, random_state=None, solver='auto', tol=0.001) score: 0.6778099947499536\n",
      "\n",
      "\n",
      "Lasso(alpha=1.0, copy_X=True, fit_intercept=True, max_iter=1000,\n",
      "      normalize=False, positive=False, precompute=False, random_state=None,\n",
      "      selection='cyclic', tol=0.0001, warm_start=False) score: 0.6835930207531372\n",
      "\n",
      "\n",
      "ElasticNet(alpha=1.0, copy_X=True, fit_intercept=True, l1_ratio=0.5,\n",
      "           max_iter=1000, normalize=False, positive=False, precompute=False,\n",
      "           random_state=None, selection='cyclic', tol=0.0001, warm_start=False) score: 0.5804126260208913\n",
      "\n",
      "\n",
      "LassoLars(alpha=1.0, copy_X=True, eps=2.220446049250313e-16, fit_intercept=True,\n",
      "          fit_path=True, max_iter=500, normalize=True, positive=False,\n",
      "          precompute='auto', verbose=False) score: 0.6730283202402152\n",
      "\n",
      "\n",
      "BayesianRidge(alpha_1=1e-06, alpha_2=1e-06, compute_score=False, copy_X=True,\n",
      "              fit_intercept=True, lambda_1=1e-06, lambda_2=1e-06, n_iter=300,\n",
      "              normalize=False, tol=0.001, verbose=False) score: 0.6721158566789787\n",
      "\n",
      "\n"
     ]
    },
    {
     "name": "stderr",
     "output_type": "stream",
     "text": [
      "/Users/jeremysilva/opt/anaconda3/lib/python3.7/site-packages/sklearn/utils/validation.py:724: DataConversionWarning: A column-vector y was passed when a 1d array was expected. Please change the shape of y to (n_samples, ), for example using ravel().\n",
      "  y = column_or_1d(y, warn=True)\n"
     ]
    }
   ],
   "source": [
    "for model in models: \n",
    "    model.fit(x_train, y_train)\n",
    "    score= model.score(x_train, y_train)\n",
    "    print('{} score: {}'.format(model, score))\n",
    "    print('\\n')"
   ]
  },
  {
   "cell_type": "markdown",
   "metadata": {},
   "source": [
    "### Adding a 14 Day Offset\n",
    "\n",
    "Add an offset so we are predicting Num New Cases 14 days in advance\n",
    "LinearRegression out of the box"
   ]
  },
  {
   "cell_type": "code",
   "execution_count": 629,
   "metadata": {},
   "outputs": [
    {
     "name": "stderr",
     "output_type": "stream",
     "text": [
      "/Users/jeremysilva/opt/anaconda3/lib/python3.7/site-packages/ipykernel_launcher.py:2: SettingWithCopyWarning: \n",
      "A value is trying to be set on a copy of a slice from a DataFrame.\n",
      "Try using .loc[row_indexer,col_indexer] = value instead\n",
      "\n",
      "See the caveats in the documentation: https://pandas.pydata.org/pandas-docs/stable/user_guide/indexing.html#returning-a-view-versus-a-copy\n",
      "  \n"
     ]
    },
    {
     "data": {
      "text/html": [
       "<div>\n",
       "<style scoped>\n",
       "    .dataframe tbody tr th:only-of-type {\n",
       "        vertical-align: middle;\n",
       "    }\n",
       "\n",
       "    .dataframe tbody tr th {\n",
       "        vertical-align: top;\n",
       "    }\n",
       "\n",
       "    .dataframe thead th {\n",
       "        text-align: right;\n",
       "    }\n",
       "</style>\n",
       "<table border=\"1\" class=\"dataframe\">\n",
       "  <thead>\n",
       "    <tr style=\"text-align: right;\">\n",
       "      <th></th>\n",
       "      <th>state</th>\n",
       "      <th>date</th>\n",
       "      <th>retail_and_recreation</th>\n",
       "      <th>grocery_and_pharmacy</th>\n",
       "      <th>parks</th>\n",
       "      <th>transit</th>\n",
       "      <th>workplace</th>\n",
       "      <th>residential</th>\n",
       "      <th>driving gps hits</th>\n",
       "      <th>transit gps hits</th>\n",
       "      <th>walking gps hits</th>\n",
       "      <th>cases</th>\n",
       "      <th>deaths</th>\n",
       "      <th>Growth Rate</th>\n",
       "      <th>Num New Cases</th>\n",
       "      <th>New Cases 14 Day Offset</th>\n",
       "    </tr>\n",
       "  </thead>\n",
       "  <tbody>\n",
       "    <tr>\n",
       "      <th>450</th>\n",
       "      <td>California</td>\n",
       "      <td>2020-02-15</td>\n",
       "      <td>1.0</td>\n",
       "      <td>1.0</td>\n",
       "      <td>19.0</td>\n",
       "      <td>1.0</td>\n",
       "      <td>-1.0</td>\n",
       "      <td>0.0</td>\n",
       "      <td>149.625000</td>\n",
       "      <td>98.747059</td>\n",
       "      <td>161.364286</td>\n",
       "      <td>7</td>\n",
       "      <td>0</td>\n",
       "      <td>0.000000</td>\n",
       "      <td>0.0</td>\n",
       "      <td>1.0</td>\n",
       "    </tr>\n",
       "    <tr>\n",
       "      <th>451</th>\n",
       "      <td>California</td>\n",
       "      <td>2020-02-16</td>\n",
       "      <td>5.0</td>\n",
       "      <td>0.0</td>\n",
       "      <td>31.0</td>\n",
       "      <td>1.0</td>\n",
       "      <td>-1.0</td>\n",
       "      <td>-1.0</td>\n",
       "      <td>128.067973</td>\n",
       "      <td>85.542941</td>\n",
       "      <td>127.493810</td>\n",
       "      <td>7</td>\n",
       "      <td>0</td>\n",
       "      <td>0.000000</td>\n",
       "      <td>0.0</td>\n",
       "      <td>1.0</td>\n",
       "    </tr>\n",
       "    <tr>\n",
       "      <th>452</th>\n",
       "      <td>California</td>\n",
       "      <td>2020-02-17</td>\n",
       "      <td>9.0</td>\n",
       "      <td>1.0</td>\n",
       "      <td>44.0</td>\n",
       "      <td>-12.0</td>\n",
       "      <td>-38.0</td>\n",
       "      <td>8.0</td>\n",
       "      <td>131.830676</td>\n",
       "      <td>98.512353</td>\n",
       "      <td>119.583333</td>\n",
       "      <td>7</td>\n",
       "      <td>0</td>\n",
       "      <td>0.000000</td>\n",
       "      <td>0.0</td>\n",
       "      <td>5.0</td>\n",
       "    </tr>\n",
       "    <tr>\n",
       "      <th>453</th>\n",
       "      <td>California</td>\n",
       "      <td>2020-02-18</td>\n",
       "      <td>0.0</td>\n",
       "      <td>0.0</td>\n",
       "      <td>16.0</td>\n",
       "      <td>3.0</td>\n",
       "      <td>0.0</td>\n",
       "      <td>0.0</td>\n",
       "      <td>114.652568</td>\n",
       "      <td>110.847059</td>\n",
       "      <td>109.419524</td>\n",
       "      <td>7</td>\n",
       "      <td>0</td>\n",
       "      <td>0.000000</td>\n",
       "      <td>0.0</td>\n",
       "      <td>5.0</td>\n",
       "    </tr>\n",
       "    <tr>\n",
       "      <th>454</th>\n",
       "      <td>California</td>\n",
       "      <td>2020-02-19</td>\n",
       "      <td>0.0</td>\n",
       "      <td>0.0</td>\n",
       "      <td>13.0</td>\n",
       "      <td>1.0</td>\n",
       "      <td>0.0</td>\n",
       "      <td>0.0</td>\n",
       "      <td>115.025946</td>\n",
       "      <td>110.649412</td>\n",
       "      <td>112.455238</td>\n",
       "      <td>7</td>\n",
       "      <td>0</td>\n",
       "      <td>0.000000</td>\n",
       "      <td>0.0</td>\n",
       "      <td>7.0</td>\n",
       "    </tr>\n",
       "    <tr>\n",
       "      <th>455</th>\n",
       "      <td>California</td>\n",
       "      <td>2020-02-20</td>\n",
       "      <td>2.0</td>\n",
       "      <td>1.0</td>\n",
       "      <td>12.0</td>\n",
       "      <td>1.0</td>\n",
       "      <td>0.0</td>\n",
       "      <td>0.0</td>\n",
       "      <td>120.621216</td>\n",
       "      <td>108.973529</td>\n",
       "      <td>114.736667</td>\n",
       "      <td>8</td>\n",
       "      <td>0</td>\n",
       "      <td>14.285714</td>\n",
       "      <td>1.0</td>\n",
       "      <td>10.0</td>\n",
       "    </tr>\n",
       "    <tr>\n",
       "      <th>456</th>\n",
       "      <td>California</td>\n",
       "      <td>2020-02-21</td>\n",
       "      <td>1.0</td>\n",
       "      <td>0.0</td>\n",
       "      <td>8.0</td>\n",
       "      <td>0.0</td>\n",
       "      <td>1.0</td>\n",
       "      <td>0.0</td>\n",
       "      <td>143.535541</td>\n",
       "      <td>117.529412</td>\n",
       "      <td>139.326190</td>\n",
       "      <td>9</td>\n",
       "      <td>0</td>\n",
       "      <td>12.500000</td>\n",
       "      <td>1.0</td>\n",
       "      <td>12.0</td>\n",
       "    </tr>\n",
       "    <tr>\n",
       "      <th>457</th>\n",
       "      <td>California</td>\n",
       "      <td>2020-02-22</td>\n",
       "      <td>0.0</td>\n",
       "      <td>0.0</td>\n",
       "      <td>-3.0</td>\n",
       "      <td>-4.0</td>\n",
       "      <td>1.0</td>\n",
       "      <td>1.0</td>\n",
       "      <td>142.735676</td>\n",
       "      <td>97.484118</td>\n",
       "      <td>153.515714</td>\n",
       "      <td>9</td>\n",
       "      <td>0</td>\n",
       "      <td>0.000000</td>\n",
       "      <td>0.0</td>\n",
       "      <td>14.0</td>\n",
       "    </tr>\n",
       "    <tr>\n",
       "      <th>458</th>\n",
       "      <td>California</td>\n",
       "      <td>2020-02-23</td>\n",
       "      <td>4.0</td>\n",
       "      <td>1.0</td>\n",
       "      <td>16.0</td>\n",
       "      <td>3.0</td>\n",
       "      <td>2.0</td>\n",
       "      <td>0.0</td>\n",
       "      <td>119.011486</td>\n",
       "      <td>88.245294</td>\n",
       "      <td>112.794286</td>\n",
       "      <td>9</td>\n",
       "      <td>0</td>\n",
       "      <td>0.000000</td>\n",
       "      <td>0.0</td>\n",
       "      <td>19.0</td>\n",
       "    </tr>\n",
       "    <tr>\n",
       "      <th>459</th>\n",
       "      <td>California</td>\n",
       "      <td>2020-02-24</td>\n",
       "      <td>2.0</td>\n",
       "      <td>0.0</td>\n",
       "      <td>12.0</td>\n",
       "      <td>1.0</td>\n",
       "      <td>4.0</td>\n",
       "      <td>0.0</td>\n",
       "      <td>111.661351</td>\n",
       "      <td>109.474706</td>\n",
       "      <td>108.403810</td>\n",
       "      <td>11</td>\n",
       "      <td>0</td>\n",
       "      <td>22.222222</td>\n",
       "      <td>2.0</td>\n",
       "      <td>12.0</td>\n",
       "    </tr>\n",
       "  </tbody>\n",
       "</table>\n",
       "</div>"
      ],
      "text/plain": [
       "          state        date  retail_and_recreation  grocery_and_pharmacy  \\\n",
       "450  California  2020-02-15                    1.0                   1.0   \n",
       "451  California  2020-02-16                    5.0                   0.0   \n",
       "452  California  2020-02-17                    9.0                   1.0   \n",
       "453  California  2020-02-18                    0.0                   0.0   \n",
       "454  California  2020-02-19                    0.0                   0.0   \n",
       "455  California  2020-02-20                    2.0                   1.0   \n",
       "456  California  2020-02-21                    1.0                   0.0   \n",
       "457  California  2020-02-22                    0.0                   0.0   \n",
       "458  California  2020-02-23                    4.0                   1.0   \n",
       "459  California  2020-02-24                    2.0                   0.0   \n",
       "\n",
       "     parks  transit  workplace  residential  driving gps hits  \\\n",
       "450   19.0      1.0       -1.0          0.0        149.625000   \n",
       "451   31.0      1.0       -1.0         -1.0        128.067973   \n",
       "452   44.0    -12.0      -38.0          8.0        131.830676   \n",
       "453   16.0      3.0        0.0          0.0        114.652568   \n",
       "454   13.0      1.0        0.0          0.0        115.025946   \n",
       "455   12.0      1.0        0.0          0.0        120.621216   \n",
       "456    8.0      0.0        1.0          0.0        143.535541   \n",
       "457   -3.0     -4.0        1.0          1.0        142.735676   \n",
       "458   16.0      3.0        2.0          0.0        119.011486   \n",
       "459   12.0      1.0        4.0          0.0        111.661351   \n",
       "\n",
       "     transit gps hits  walking gps hits  cases  deaths  Growth Rate  \\\n",
       "450         98.747059        161.364286      7       0     0.000000   \n",
       "451         85.542941        127.493810      7       0     0.000000   \n",
       "452         98.512353        119.583333      7       0     0.000000   \n",
       "453        110.847059        109.419524      7       0     0.000000   \n",
       "454        110.649412        112.455238      7       0     0.000000   \n",
       "455        108.973529        114.736667      8       0    14.285714   \n",
       "456        117.529412        139.326190      9       0    12.500000   \n",
       "457         97.484118        153.515714      9       0     0.000000   \n",
       "458         88.245294        112.794286      9       0     0.000000   \n",
       "459        109.474706        108.403810     11       0    22.222222   \n",
       "\n",
       "     Num New Cases  New Cases 14 Day Offset  \n",
       "450            0.0                      1.0  \n",
       "451            0.0                      1.0  \n",
       "452            0.0                      5.0  \n",
       "453            0.0                      5.0  \n",
       "454            0.0                      7.0  \n",
       "455            1.0                     10.0  \n",
       "456            1.0                     12.0  \n",
       "457            0.0                     14.0  \n",
       "458            0.0                     19.0  \n",
       "459            2.0                     12.0  "
      ]
     },
     "execution_count": 629,
     "metadata": {},
     "output_type": "execute_result"
    }
   ],
   "source": [
    "# Add a new column that has the Number of new cases 14 days in the Future\n",
    "ca['New Cases 14 Day Offset']= ca['Num New Cases'].shift(-13)\n",
    "ca.head(10)"
   ]
  },
  {
   "cell_type": "code",
   "execution_count": 630,
   "metadata": {},
   "outputs": [
    {
     "name": "stdout",
     "output_type": "stream",
     "text": [
      "<class 'pandas.core.frame.DataFrame'>\n",
      "Int64Index: 119 entries, 450 to 568\n",
      "Data columns (total 16 columns):\n",
      " #   Column                   Non-Null Count  Dtype  \n",
      "---  ------                   --------------  -----  \n",
      " 0   state                    119 non-null    object \n",
      " 1   date                     119 non-null    object \n",
      " 2   retail_and_recreation    119 non-null    float64\n",
      " 3   grocery_and_pharmacy     119 non-null    float64\n",
      " 4   parks                    119 non-null    float64\n",
      " 5   transit                  119 non-null    float64\n",
      " 6   workplace                119 non-null    float64\n",
      " 7   residential              119 non-null    float64\n",
      " 8   driving gps hits         119 non-null    float64\n",
      " 9   transit gps hits         119 non-null    float64\n",
      " 10  walking gps hits         119 non-null    float64\n",
      " 11  cases                    119 non-null    int64  \n",
      " 12  deaths                   119 non-null    int64  \n",
      " 13  Growth Rate              119 non-null    float64\n",
      " 14  Num New Cases            119 non-null    float64\n",
      " 15  New Cases 14 Day Offset  119 non-null    float64\n",
      "dtypes: float64(12), int64(2), object(2)\n",
      "memory usage: 15.8+ KB\n"
     ]
    }
   ],
   "source": [
    "# We will now have NaNs on the last 14 days of our dataset so we create a new dataset with those NA's cropped\n",
    "ca_cropped= ca.dropna()\n",
    "ca_cropped.info()"
   ]
  },
  {
   "cell_type": "code",
   "execution_count": 631,
   "metadata": {},
   "outputs": [
    {
     "name": "stdout",
     "output_type": "stream",
     "text": [
      "(84, 9)\n",
      "(35, 9)\n",
      "(84, 1)\n",
      "(35, 1)\n",
      "Index(['retail_and_recreation', 'grocery_and_pharmacy', 'parks', 'transit',\n",
      "       'workplace', 'residential', 'driving gps hits', 'transit gps hits',\n",
      "       'walking gps hits'],\n",
      "      dtype='object')\n"
     ]
    }
   ],
   "source": [
    "# We need to reallocate test and train now that there are only 119 observations\n",
    "# First 84 rows will be training (70%) and the rest will be test\n",
    "x_train_offset= ca_cropped[:84].drop(columns=['state', 'date', 'cases', 'deaths', 'Growth Rate', 'Num New Cases', 'New Cases 14 Day Offset'])\n",
    "x_test_offset= ca_cropped[84:].drop(columns=['state', 'date', 'cases', 'deaths', 'Growth Rate', 'Num New Cases', 'New Cases 14 Day Offset'])\n",
    "y_train_offset= pd.DataFrame(ca_cropped['New Cases 14 Day Offset'][:84])\n",
    "y_test_offset= pd.DataFrame(ca_cropped['New Cases 14 Day Offset'][84:])\n",
    "\n",
    "print(x_train_offset.shape)\n",
    "print(x_test_offset.shape)\n",
    "print(y_train_offset.shape)\n",
    "print(y_test_offset.shape)\n",
    "print(x_train_offset.columns)"
   ]
  },
  {
   "cell_type": "markdown",
   "metadata": {},
   "source": [
    "### Multi Model Test with Offset"
   ]
  },
  {
   "cell_type": "code",
   "execution_count": 632,
   "metadata": {},
   "outputs": [
    {
     "name": "stdout",
     "output_type": "stream",
     "text": [
      "(84, 9)\n",
      "(35, 9)\n"
     ]
    }
   ],
   "source": [
    "# scaling data\n",
    "scaler = StandardScaler()\n",
    "x_train_offset = scaler.fit_transform(x_train_offset)\n",
    "x_test_offset = scaler.transform(x_test_offset)\n",
    "\n",
    "print(x_train_offset.shape)\n",
    "print(x_test_offset.shape)"
   ]
  },
  {
   "cell_type": "code",
   "execution_count": 633,
   "metadata": {},
   "outputs": [],
   "source": [
    "# define models\n",
    "linear= linear_model.LinearRegression()\n",
    "ridge = linear_model.Ridge()\n",
    "lasso = linear_model.Lasso()\n",
    "elastic = linear_model.ElasticNet()\n",
    "lasso_lars = linear_model.LassoLars()\n",
    "bayesian_ridge = linear_model.BayesianRidge()\n"
   ]
  },
  {
   "cell_type": "code",
   "execution_count": 634,
   "metadata": {},
   "outputs": [
    {
     "name": "stdout",
     "output_type": "stream",
     "text": [
      "LinearRegression(copy_X=True, fit_intercept=True, n_jobs=None, normalize=False) score: 0.7774367503977521\n"
     ]
    },
    {
     "data": {
      "image/png": "[encoded data removed]",
      "text/plain": [
       "<Figure size 432x288 with 1 Axes>"
      ]
     },
     "metadata": {
      "needs_background": "light"
     },
     "output_type": "display_data"
    },
    {
     "name": "stdout",
     "output_type": "stream",
     "text": [
      "\n",
      "\n"
     ]
    },
    {
     "data": {
      "image/png": "[encoded data removed]",
      "text/plain": [
       "<Figure size 432x288 with 1 Axes>"
      ]
     },
     "metadata": {
      "needs_background": "light"
     },
     "output_type": "display_data"
    },
    {
     "name": "stdout",
     "output_type": "stream",
     "text": [
      "Ridge(alpha=1.0, copy_X=True, fit_intercept=True, max_iter=None,\n",
      "      normalize=False, random_state=None, solver='auto', tol=0.001) score: 0.761557777312244\n"
     ]
    },
    {
     "data": {
      "image/png": "[encoded data removed]",
      "text/plain": [
       "<Figure size 432x288 with 1 Axes>"
      ]
     },
     "metadata": {
      "needs_background": "light"
     },
     "output_type": "display_data"
    },
    {
     "name": "stdout",
     "output_type": "stream",
     "text": [
      "\n",
      "\n"
     ]
    },
    {
     "data": {
      "image/png": "[encoded data removed]",
      "text/plain": [
       "<Figure size 432x288 with 1 Axes>"
      ]
     },
     "metadata": {
      "needs_background": "light"
     },
     "output_type": "display_data"
    },
    {
     "name": "stdout",
     "output_type": "stream",
     "text": [
      "Lasso(alpha=1.0, copy_X=True, fit_intercept=True, max_iter=1000,\n",
      "      normalize=False, positive=False, precompute=False, random_state=None,\n",
      "      selection='cyclic', tol=0.0001, warm_start=False) score: 0.7764507484165294\n"
     ]
    },
    {
     "data": {
      "image/png": "[encoded data removed]",
      "text/plain": [
       "<Figure size 432x288 with 1 Axes>"
      ]
     },
     "metadata": {
      "needs_background": "light"
     },
     "output_type": "display_data"
    },
    {
     "name": "stdout",
     "output_type": "stream",
     "text": [
      "\n",
      "\n"
     ]
    },
    {
     "data": {
      "image/png": "[encoded data removed]",
      "text/plain": [
       "<Figure size 432x288 with 1 Axes>"
      ]
     },
     "metadata": {
      "needs_background": "light"
     },
     "output_type": "display_data"
    },
    {
     "name": "stdout",
     "output_type": "stream",
     "text": [
      "ElasticNet(alpha=1.0, copy_X=True, fit_intercept=True, l1_ratio=0.5,\n",
      "           max_iter=1000, normalize=False, positive=False, precompute=False,\n",
      "           random_state=None, selection='cyclic', tol=0.0001, warm_start=False) score: 0.6376288079837619\n"
     ]
    },
    {
     "data": {
      "image/png": "[encoded data removed]",
      "text/plain": [
       "<Figure size 432x288 with 1 Axes>"
      ]
     },
     "metadata": {
      "needs_background": "light"
     },
     "output_type": "display_data"
    },
    {
     "name": "stdout",
     "output_type": "stream",
     "text": [
      "\n",
      "\n"
     ]
    },
    {
     "data": {
      "image/png": "[encoded data removed]",
      "text/plain": [
       "<Figure size 432x288 with 1 Axes>"
      ]
     },
     "metadata": {
      "needs_background": "light"
     },
     "output_type": "display_data"
    },
    {
     "name": "stdout",
     "output_type": "stream",
     "text": [
      "LassoLars(alpha=1.0, copy_X=True, eps=2.220446049250313e-16, fit_intercept=True,\n",
      "          fit_path=True, max_iter=500, normalize=True, positive=False,\n",
      "          precompute='auto', verbose=False) score: 0.758055376220952\n"
     ]
    },
    {
     "data": {
      "image/png": "[encoded data removed]",
      "text/plain": [
       "<Figure size 432x288 with 1 Axes>"
      ]
     },
     "metadata": {
      "needs_background": "light"
     },
     "output_type": "display_data"
    },
    {
     "name": "stdout",
     "output_type": "stream",
     "text": [
      "\n",
      "\n"
     ]
    },
    {
     "data": {
      "image/png": "[encoded data removed]",
      "text/plain": [
       "<Figure size 432x288 with 1 Axes>"
      ]
     },
     "metadata": {
      "needs_background": "light"
     },
     "output_type": "display_data"
    },
    {
     "name": "stdout",
     "output_type": "stream",
     "text": [
      "BayesianRidge(alpha_1=1e-06, alpha_2=1e-06, compute_score=False, copy_X=True,\n",
      "              fit_intercept=True, lambda_1=1e-06, lambda_2=1e-06, n_iter=300,\n",
      "              normalize=False, tol=0.001, verbose=False) score: 0.7662155961988598\n"
     ]
    },
    {
     "name": "stderr",
     "output_type": "stream",
     "text": [
      "/Users/jeremysilva/opt/anaconda3/lib/python3.7/site-packages/sklearn/utils/validation.py:724: DataConversionWarning: A column-vector y was passed when a 1d array was expected. Please change the shape of y to (n_samples, ), for example using ravel().\n",
      "  y = column_or_1d(y, warn=True)\n"
     ]
    },
    {
     "data": {
      "image/png": "[encoded data removed]",
      "text/plain": [
       "<Figure size 432x288 with 1 Axes>"
      ]
     },
     "metadata": {
      "needs_background": "light"
     },
     "output_type": "display_data"
    },
    {
     "name": "stdout",
     "output_type": "stream",
     "text": [
      "\n",
      "\n"
     ]
    },
    {
     "data": {
      "image/png": "[encoded data removed]",
      "text/plain": [
       "<Figure size 432x288 with 1 Axes>"
      ]
     },
     "metadata": {
      "needs_background": "light"
     },
     "output_type": "display_data"
    }
   ],
   "source": [
    "for model in models:\n",
    "    model.fit(x_train_offset, y_train_offset)\n",
    "    score= model.score(x_train_offset, y_train_offset)\n",
    "    print('{} score: {}'.format(model, score))\n",
    "    y_pred= model.predict(x_test_offset)\n",
    "    # Use our new model to make predictions\n",
    "    plt.scatter(y_pred, y_test_offset)\n",
    "    plt.xlabel('Predicted Num New Cases')\n",
    "    plt.ylabel('Actual Num New Cases')\n",
    "    plt.show()\n",
    "    print('\\n')\n",
    "    df= y_test_offset.copy()\n",
    "    y_pred= model.predict(x_test_offset)\n",
    "    df['Predicted']= y_pred\n",
    "\n",
    "    sns.lineplot(data=df)\n",
    "    plt.legend()\n",
    "    plt.show()\n",
    "    \n",
    "    "
   ]
  },
  {
   "cell_type": "markdown",
   "metadata": {},
   "source": [
    "#### Our two models with the best R2 values are Linear Regression and Lasso Regression"
   ]
  },
  {
   "cell_type": "code",
   "execution_count": 635,
   "metadata": {},
   "outputs": [
    {
     "data": {
      "image/png": "[encoded data removed]",
      "text/plain": [
       "<Figure size 432x288 with 1 Axes>"
      ]
     },
     "metadata": {
      "needs_background": "light"
     },
     "output_type": "display_data"
    }
   ],
   "source": [
    "# Let's see what the actual lines look like\n",
    "linear= linear_model.LinearRegression()\n",
    "lasso= linear_model.Lasso()\n",
    "\n",
    "linear.fit(x_train_offset, y_train_offset)\n",
    "y_pred_linear= linear.predict(x_test_offset)\n",
    "\n",
    "lasso.fit(x_train_offset, y_train_offset)\n",
    "y_pred_lasso= lasso.predict(x_test_offset)\n",
    "\n",
    "y_test_offset_values= y_test_offset.values\n",
    "\n",
    "\n",
    "'''df= pd.DataFrame({'Actual': y_test_offset_values, 'Linear Predicted': y_pred_linear, 'Lasso Predicted': y_pred_lasso})\n",
    "sns.lineplot(data=df)\n",
    "plt.legend()\n",
    "plt.show()'''\n",
    "\n",
    "df= y_test_offset.copy()\n",
    "df['Linear Predicted']= y_pred_linear\n",
    "df['Lasso Predicted']= y_pred_lasso\n",
    "\n",
    "sns.lineplot(data=df)\n",
    "plt.legend()\n",
    "plt.show()\n"
   ]
  },
  {
   "cell_type": "code",
   "execution_count": 636,
   "metadata": {},
   "outputs": [
    {
     "name": "stdout",
     "output_type": "stream",
     "text": [
      "[[ 1.25242600e+00  6.69586819e-01  1.56994318e+00  1.50665718e+00\n",
      "   1.27301644e+00 -1.35894705e+00  2.25806969e+00  1.34677736e+00\n",
      "   2.75460555e+00]\n",
      " [ 1.41784075e+00  5.90479516e-01  2.09256627e+00  1.50665718e+00\n",
      "   1.27301644e+00 -1.46376941e+00  1.49976290e+00  9.45927592e-01\n",
      "   1.53921282e+00]\n",
      " [ 1.58325551e+00  6.69586819e-01  2.65874129e+00  9.48749536e-01\n",
      "  -3.55187304e-01 -5.20368154e-01  1.63212267e+00  1.33965218e+00\n",
      "   1.25535690e+00]\n",
      " [ 1.21107231e+00  5.90479516e-01  1.43928740e+00  1.59248912e+00\n",
      "   1.31702195e+00 -1.35894705e+00  1.02785214e+00  1.71410840e+00\n",
      "   8.90643395e-01]\n",
      " [ 1.21107231e+00  5.90479516e-01  1.30863163e+00  1.50665718e+00\n",
      "   1.31702195e+00 -1.35894705e+00  1.04098639e+00  1.70810824e+00\n",
      "   9.99575583e-01]\n",
      " [ 1.29377969e+00  6.69586819e-01  1.26507971e+00  1.50665718e+00\n",
      "   1.31702195e+00 -1.35894705e+00  1.23780998e+00  1.65723191e+00\n",
      "   1.08144133e+00]\n",
      " [ 1.25242600e+00  5.90479516e-01  1.09087201e+00  1.46374121e+00\n",
      "   1.36102746e+00 -1.35894705e+00  2.04386212e+00  1.91697085e+00\n",
      "   1.96380059e+00]\n",
      " [ 1.21107231e+00  5.90479516e-01  6.11800842e-01  1.29207732e+00\n",
      "   1.36102746e+00 -1.25412469e+00  2.01572545e+00  1.30843707e+00\n",
      "   2.47297099e+00]\n",
      " [ 1.37648706e+00  6.69586819e-01  1.43928740e+00  1.59248912e+00\n",
      "   1.40503296e+00 -1.35894705e+00  1.18118487e+00  1.02796545e+00\n",
      "   1.01174181e+00]\n",
      " [ 1.29377969e+00  5.90479516e-01  1.26507971e+00  1.50665718e+00\n",
      "   1.49304398e+00 -1.35894705e+00  9.22630791e-01  1.67244660e+00\n",
      "   8.54195967e-01]\n",
      " [ 1.33513338e+00  6.69586819e-01  1.61349510e+00  1.59248912e+00\n",
      "   1.44903847e+00 -1.46376941e+00  8.85814013e-01  1.64389228e+00\n",
      "   9.06551767e-01]\n",
      " [ 1.41784075e+00  8.27801426e-01  1.43928740e+00  1.59248912e+00\n",
      "   1.40503296e+00 -1.46376941e+00  9.34400752e-01  1.65208892e+00\n",
      "   9.81958471e-01]\n",
      " [ 1.41784075e+00  8.27801426e-01  1.35218356e+00  1.59248912e+00\n",
      "   1.40503296e+00 -1.46376941e+00  1.14727256e+00  1.59133733e+00\n",
      "   1.02353212e+00]\n",
      " [ 1.37648706e+00  9.06908730e-01  1.17797586e+00  1.54957315e+00\n",
      "   1.44903847e+00 -1.46376941e+00  1.97731146e+00  1.74275201e+00\n",
      "   1.85859345e+00]\n",
      " [ 1.37648706e+00  9.06908730e-01  1.39573548e+00  1.50665718e+00\n",
      "   1.40503296e+00 -1.46376941e+00  1.90457633e+00  1.33186626e+00\n",
      "   2.56590937e+00]\n",
      " [ 1.41784075e+00  8.27801426e-01  5.68248918e-01  1.42082523e+00\n",
      "   1.36102746e+00 -1.35894705e+00  1.01199407e+00  7.83780494e-01\n",
      "   6.70626008e-01]\n",
      " [ 1.45919444e+00  1.06512334e+00  1.09087201e+00  1.46374121e+00\n",
      "   1.49304398e+00 -1.46376941e+00  8.26531632e-01  1.36977796e+00\n",
      "   7.62265745e-01]\n",
      " [ 1.54190182e+00  1.30244525e+00  2.04901435e+00  1.54957315e+00\n",
      "   1.44903847e+00 -1.46376941e+00  9.95860290e-01  1.49597769e+00\n",
      "   1.20616227e+00]\n",
      " [ 1.37648706e+00  1.06512334e+00  1.39573548e+00  1.42082523e+00\n",
      "   1.40503296e+00 -1.35894705e+00  9.11184077e-01  1.50169213e+00\n",
      "   8.90369997e-01]\n",
      " [ 1.41784075e+00  1.14423064e+00  1.22152778e+00  1.42082523e+00\n",
      "   1.40503296e+00 -1.35894705e+00  1.11169172e+00  1.52654992e+00\n",
      "   1.00420627e+00]\n",
      " [ 1.29377969e+00  9.86016033e-01  1.04732009e+00  1.29207732e+00\n",
      "   1.40503296e+00 -1.35894705e+00  1.92523556e+00  1.66410709e+00\n",
      "   1.71480296e+00]\n",
      " [ 1.21107231e+00  9.06908730e-01  7.42456615e-01  1.20624537e+00\n",
      "   1.40503296e+00 -1.25412469e+00  1.62036697e+00  1.07139516e+00\n",
      "   2.09474135e+00]\n",
      " [ 1.29377969e+00  8.27801426e-01  1.22152778e+00  1.29207732e+00\n",
      "   1.36102746e+00 -1.35894705e+00  7.74227564e-01  5.81721637e-01\n",
      "   6.01404943e-01]\n",
      " [ 1.33513338e+00  1.06512334e+00  1.26507971e+00  1.16332940e+00\n",
      "   1.36102746e+00 -1.25412469e+00  7.36027483e-01  1.24202462e+00\n",
      "   5.28458824e-01]\n",
      " [ 1.16971862e+00  9.06908730e-01  3.06937372e-01  9.05833564e-01\n",
      "   1.18500543e+00 -1.04447996e+00  7.36455308e-01  1.11432485e+00\n",
      "   4.96710432e-01]\n",
      " [ 1.33513338e+00  1.30244525e+00  1.26507971e+00  1.03458148e+00\n",
      "   1.18500543e+00 -1.14930233e+00  7.79071501e-01  1.34004504e+00\n",
      "   7.26057540e-01]\n",
      " [ 1.08701124e+00  1.61887446e+00  8.91777499e-02  6.91253701e-01\n",
      "   1.05298891e+00 -9.39657602e-01  7.70277307e-01  1.00621488e+00\n",
      "   4.20363920e-01]\n",
      " [ 1.08701124e+00  3.04280592e+00 -1.28581872e-01  5.62505783e-01\n",
      "   9.64977897e-01 -8.34835240e-01  1.19630138e+00  8.38496210e-01\n",
      "   8.79912507e-01]\n",
      " [ 6.73474357e-01  2.40994750e+00 -8.68964586e-01  4.33757866e-01\n",
      "   1.05298891e+00 -7.30012878e-01  5.91873990e-01  2.17533539e-01\n",
      "   6.03011159e-01]\n",
      " [ 5.49413292e-01  1.46065985e+00 -3.46341494e-01  4.76673838e-01\n",
      "   9.64977897e-01 -7.30012878e-01 -5.53122037e-02 -1.00706928e-01\n",
      "  -4.59979027e-01]\n",
      " [ 7.14828046e-01  2.25173289e+00 -4.33445342e-01  1.33346058e-01\n",
      "   2.60889790e-01 -2.05901068e-01  8.96398964e-02  8.52800794e-02\n",
      "  -3.12463486e-01]\n",
      " [ 2.59937471e-01  1.46065985e+00  2.19833523e-01  4.59813992e-03\n",
      "  -1.35159771e-01  1.08566018e-01 -2.35669257e-01 -1.17225218e-01\n",
      "  -4.23429074e-01]\n",
      " [ 1.18153396e-02  9.06908730e-01 -1.28581872e-01 -2.09981723e-01\n",
      "  -3.55187304e-01  4.23033104e-01 -3.79285590e-01 -3.67785343e-01\n",
      "  -5.64451402e-01]\n",
      " [-1.12245726e-01  8.27801426e-01 -1.28581872e-01 -3.81645613e-01\n",
      "  -4.43198318e-01  5.27855466e-01 -4.46924833e-01 -3.53534971e-01\n",
      "  -6.10638650e-01]\n",
      " [-4.43075235e-01  3.53157605e-01 -2.15685721e-01 -5.10393531e-01\n",
      "  -6.19220345e-01  8.42322552e-01 -4.84787407e-01 -4.85699142e-01\n",
      "  -6.64925326e-01]\n",
      " [-7.73904744e-01 -4.37915430e-01 -2.15685721e-01 -5.53309503e-01\n",
      "  -1.35159771e-01  3.18210742e-01 -8.55137100e-01 -7.01472643e-01\n",
      "  -8.46137223e-01]\n",
      " [-8.56612121e-01 -1.14988116e+00 -3.02789569e-01 -7.67889366e-01\n",
      "  -2.67176291e-01  1.08566018e-01 -1.26112467e+00 -7.90957127e-01\n",
      "  -1.25295409e+00]\n",
      " [-4.84428924e-01 -8.33451948e-01 -4.76997267e-01 -7.67889366e-01\n",
      "  -8.39247878e-01  8.42322552e-01 -1.01165951e+00 -6.17416873e-01\n",
      "  -9.52113290e-01]\n",
      " [-5.25782612e-01 -8.33451948e-01 -6.07653040e-01 -7.67889366e-01\n",
      "  -8.83253385e-01  9.47144913e-01 -1.04095606e+00 -6.47114078e-01\n",
      "  -1.03353476e+00]\n",
      " [-5.25782612e-01 -9.12559251e-01 -5.64101115e-01 -7.67889366e-01\n",
      "  -9.27258892e-01  9.47144913e-01 -1.02570645e+00 -7.13419384e-01\n",
      "  -1.00710055e+00]\n",
      " [-5.25782612e-01 -8.33451948e-01 -4.76997267e-01 -8.10805339e-01\n",
      "  -9.27258892e-01  1.05196728e+00 -9.48935507e-01 -7.22687484e-01\n",
      "  -9.46149786e-01]\n",
      " [-6.08489990e-01 -7.54344644e-01 -5.20549191e-01 -8.53721311e-01\n",
      "  -8.83253385e-01  1.15678964e+00 -7.66410804e-01 -7.12883656e-01\n",
      "  -7.18921516e-01]\n",
      " [-8.56612121e-01 -9.91666555e-01 -1.34803575e+00 -8.10805339e-01\n",
      "  -3.11181798e-01  5.27855466e-01 -1.12480039e+00 -8.64191185e-01\n",
      "  -1.08115735e+00]\n",
      " [-8.56612121e-01 -1.30809577e+00 -9.12516510e-01 -8.53721311e-01\n",
      "  -3.99192811e-01  2.13388380e-01 -1.40935677e+00 -8.61262537e-01\n",
      "  -1.27673975e+00]\n",
      " [-4.43075235e-01 -9.91666555e-01 -3.02789569e-01 -8.10805339e-01\n",
      "  -9.27258892e-01  8.42322552e-01 -1.00186705e+00 -6.70578978e-01\n",
      "  -8.62780352e-01]\n",
      " [-4.43075235e-01 -8.33451948e-01 -2.59237645e-01 -7.67889366e-01\n",
      "  -1.01526991e+00  9.47144913e-01 -9.58090977e-01 -6.88436588e-01\n",
      "  -8.74502310e-01]\n",
      " [-4.01721546e-01 -5.17022734e-01 -3.46341494e-01 -7.24973394e-01\n",
      "  -9.71264398e-01  9.47144913e-01 -9.21630720e-01 -6.98436850e-01\n",
      "  -7.81000047e-01]\n",
      " [-4.84428924e-01 -5.96130037e-01 -5.64101115e-01 -8.53721311e-01\n",
      "  -1.01526991e+00  1.05196728e+00 -9.24302254e-01 -7.28669783e-01\n",
      "  -7.81905679e-01]\n",
      " [-5.25782612e-01 -3.58808127e-01 -6.07653040e-01 -8.10805339e-01\n",
      "  -9.27258892e-01  1.05196728e+00 -6.89944090e-01 -7.02579815e-01\n",
      "  -5.46441281e-01]\n",
      " [-8.56612121e-01 -8.33451948e-01 -1.60934730e+00 -8.53721311e-01\n",
      "  -3.99192811e-01  5.27855466e-01 -1.13362786e+00 -9.12835315e-01\n",
      "  -9.74719922e-01]\n",
      " [-9.80673187e-01 -1.54541768e+00 -1.91421077e+00 -1.06830117e+00\n",
      "  -5.31209331e-01  3.18210742e-01 -1.54049961e+00 -9.95641052e-01\n",
      "  -1.51669814e+00]\n",
      " [-6.91197367e-01 -1.22898847e+00 -1.60934730e+00 -1.11121715e+00\n",
      "  -1.05927541e+00  1.15678964e+00 -1.14013557e+00 -8.74941467e-01\n",
      "  -1.10960787e+00]\n",
      " [-7.32551055e-01 -1.22898847e+00 -1.04317228e+00 -9.82469229e-01\n",
      "  -1.10328092e+00  1.15678964e+00 -1.02563515e+00 -8.42297756e-01\n",
      "  -1.01408930e+00]\n",
      " [-7.32551055e-01 -1.14988116e+00 -1.13027613e+00 -1.02538520e+00\n",
      "  -1.10328092e+00  1.15678964e+00 -1.01351342e+00 -8.24011563e-01\n",
      "  -1.00607530e+00]\n",
      " [-8.15258433e-01 -1.30809577e+00 -1.60934730e+00 -1.19704909e+00\n",
      "  -1.14728643e+00  1.36643436e+00 -9.72256761e-01 -9.02620762e-01\n",
      "  -1.04242021e+00]\n",
      " [-7.32551055e-01 -9.12559251e-01 -1.17382806e+00 -1.06830117e+00\n",
      "  -1.14728643e+00  1.36643436e+00 -6.90866292e-01 -8.18904286e-01\n",
      "  -7.04038389e-01]\n",
      " [-7.73904744e-01 -5.17022734e-01 -1.26093190e+00 -8.10805339e-01\n",
      "  -4.43198318e-01  5.27855466e-01 -8.61473674e-01 -8.61637547e-01\n",
      "  -6.48828993e-01]\n",
      " [-1.35285638e+00 -2.09916880e+00 -1.65289922e+00 -1.02538520e+00\n",
      "  -6.19220345e-01  3.18210742e-01 -1.51532920e+00 -9.85480072e-01\n",
      "  -1.41497683e+00]\n",
      " [-6.49843678e-01 -1.38720307e+00 -8.25412661e-01 -8.96637284e-01\n",
      "  -9.71264398e-01  9.47144913e-01 -8.99816363e-01 -8.01743123e-01\n",
      "  -7.82930923e-01]\n",
      " [-5.67136301e-01 -1.07077386e+00 -3.46341494e-01 -7.67889366e-01\n",
      "  -9.71264398e-01  9.47144913e-01 -8.08542128e-01 -7.48295297e-01\n",
      "  -6.37072860e-01]\n",
      " [-6.49843678e-01 -7.54344644e-01 -4.76997267e-01 -7.24973394e-01\n",
      "  -9.71264398e-01  9.47144913e-01 -6.97383504e-01 -7.56259791e-01\n",
      "  -5.74515882e-01]\n",
      " [-1.02202688e+00 -6.75237341e-01 -7.38308813e-01 -8.10805339e-01\n",
      "  -9.71264398e-01  1.05196728e+00 -6.57343772e-01 -7.69420849e-01\n",
      "  -5.85827742e-01]\n",
      " [-1.10473425e+00 -7.54344644e-01 -9.56068435e-01 -8.53721311e-01\n",
      "  -8.83253385e-01  1.15678964e+00 -4.55105811e-01 -7.55045473e-01\n",
      "  -4.80518084e-01]\n",
      " [-1.22879532e+00 -8.33451948e-01 -1.30448383e+00 -6.82057421e-01\n",
      "  -2.23170784e-01  4.23033104e-01 -6.23388673e-01 -8.52958749e-01\n",
      "  -5.37965929e-01]\n",
      " [-1.22879532e+00 -1.07077386e+00 -9.56068435e-01 -7.67889366e-01\n",
      "  -3.11181798e-01  1.08566018e-01 -9.76920061e-01 -8.90727594e-01\n",
      "  -9.23731115e-01]\n",
      " [-1.02202688e+00 -9.12559251e-01 -7.38308813e-01 -8.10805339e-01\n",
      "  -8.83253385e-01  8.42322552e-01 -6.79162883e-01 -7.82153325e-01\n",
      "  -6.20754392e-01]\n",
      " [-9.80673187e-01 -7.54344644e-01 -3.46341494e-01 -7.67889366e-01\n",
      "  -9.27258892e-01  8.42322552e-01 -6.54073282e-01 -7.72367355e-01\n",
      "  -5.86835899e-01]\n",
      " [-9.80673187e-01 -6.75237341e-01 -3.46341494e-01 -7.67889366e-01\n",
      "  -9.27258892e-01  9.47144913e-01 -5.80829523e-01 -7.73331666e-01\n",
      "  -5.10882397e-01]\n",
      " [-9.80673187e-01 -5.96130037e-01 -4.76997267e-01 -7.67889366e-01\n",
      "  -9.27258892e-01  9.47144913e-01 -4.60539198e-01 -7.39509353e-01\n",
      "  -4.82671097e-01]\n",
      " [-1.02202688e+00 -5.17022734e-01 -5.20549191e-01 -7.67889366e-01\n",
      "  -8.83253385e-01  1.05196728e+00 -1.54482200e-01 -7.30866269e-01\n",
      "  -1.28090420e-01]\n",
      " [-1.10473425e+00 -4.37915430e-01 -7.81860737e-01 -5.53309503e-01\n",
      "  -1.79165277e-01  2.13388380e-01 -2.97780041e-01 -7.70010150e-01\n",
      "  -2.26342981e-01]\n",
      " [-1.10473425e+00 -7.54344644e-01 -6.07653040e-01 -6.82057421e-01\n",
      "  -2.67176291e-01  3.74365578e-03 -6.96261650e-01 -8.32065345e-01\n",
      "  -7.42860966e-01]\n",
      " [-8.97965810e-01 -5.96130037e-01 -2.59237645e-01 -7.24973394e-01\n",
      "  -8.39247878e-01  7.37500190e-01 -4.84777900e-01 -7.02365524e-01\n",
      "  -4.13774692e-01]\n",
      " [-8.97965810e-01 -5.17022734e-01 -8.50299475e-02 -6.39141449e-01\n",
      "  -8.83253385e-01  3.74365578e-03 -3.90123841e-01 -6.61346594e-01\n",
      "  -3.77378526e-01]\n",
      " [-8.15258433e-01 -5.96130037e-01 -4.33445342e-01 -6.82057421e-01\n",
      "  -8.83253385e-01  8.42322552e-01 -3.76328839e-01 -7.35812827e-01\n",
      "  -3.76028621e-01]\n",
      " [-7.32551055e-01 -3.58808127e-01 -3.02789569e-01 -6.82057421e-01\n",
      "  -8.83253385e-01  8.42322552e-01 -2.43897771e-01 -6.76257698e-01\n",
      "  -2.81689075e-01]\n",
      " [-7.32551055e-01 -1.21486216e-01 -2.59237645e-01 -5.96225476e-01\n",
      "  -7.95242371e-01  8.42322552e-01  1.48855727e-01 -5.94952000e-01\n",
      "   1.45171312e-01]\n",
      " [-8.56612121e-01 -4.23789126e-02 -5.64101115e-01 -3.81645613e-01\n",
      "  -9.11542639e-02  1.08566018e-01 -3.81754077e-02 -6.99061866e-01\n",
      "   5.15152620e-02]\n",
      " [-8.56612121e-01 -3.58808127e-01 -1.72133796e-01 -4.67477558e-01\n",
      "  -9.11542639e-02 -1.01078706e-01 -4.23418188e-01 -7.82439047e-01\n",
      "  -4.86037315e-01]\n",
      " [-6.08489990e-01 -2.00593520e-01  2.07390116e-03 -5.96225476e-01\n",
      "  -7.51236865e-01  6.32677828e-01 -2.01386158e-01 -6.36810238e-01\n",
      "  -9.64274638e-02]\n",
      " [-6.08489990e-01  1.15835694e-01  1.32729674e-01 -5.10393531e-01\n",
      "  -7.95242371e-01  6.32677828e-01 -1.41366966e-01 -6.29827912e-01\n",
      "  -1.80304638e-02]\n",
      " [-6.91197367e-01 -2.00593520e-01  2.07390116e-03 -5.53309503e-01\n",
      "  -7.95242371e-01  7.37500190e-01 -1.08077373e-01 -6.25684947e-01\n",
      "  -7.85027792e-02]\n",
      " [-6.91197367e-01 -4.23789126e-02 -4.14780232e-02 -5.96225476e-01\n",
      "  -8.39247878e-01  7.37500190e-01  4.25838233e-02 -6.20327664e-01\n",
      "  -1.79743194e-03]\n",
      " [-6.91197367e-01  1.94942998e-01 -4.14780232e-02 -5.10393531e-01\n",
      "  -7.07231358e-01  7.37500190e-01  5.06860271e-01 -5.35414728e-01\n",
      "   4.23576351e-01]]\n"
     ]
    }
   ],
   "source": [
    "print(x_train_offset)"
   ]
  },
  {
   "cell_type": "code",
   "execution_count": null,
   "metadata": {},
   "outputs": [],
   "source": []
  },
  {
   "cell_type": "code",
   "execution_count": 637,
   "metadata": {},
   "outputs": [
    {
     "name": "stdout",
     "output_type": "stream",
     "text": [
      "Alpha of 0.001 gives us an R2 of 0.7774367485667538\n",
      "\n",
      "\n",
      "Alpha of 0.01 gives us an R2 of 0.7774366423425335\n",
      "\n",
      "\n",
      "Alpha of 0.1 gives us an R2 of 0.7774263774247475\n",
      "\n",
      "\n",
      "Alpha of 1 gives us an R2 of 0.7764507484165294\n",
      "\n",
      "\n",
      "Alpha of 10 gives us an R2 of 0.7546144958451089\n",
      "\n",
      "\n",
      "Alpha of 100 gives us an R2 of 0.6530320957914411\n",
      "\n",
      "\n",
      "Alpha of 1000 gives us an R2 of 0.0\n",
      "\n",
      "\n"
     ]
    },
    {
     "name": "stderr",
     "output_type": "stream",
     "text": [
      "/Users/jeremysilva/opt/anaconda3/lib/python3.7/site-packages/sklearn/linear_model/coordinate_descent.py:475: ConvergenceWarning: Objective did not converge. You might want to increase the number of iterations. Duality gap: 1446710.269197126, tolerance: 6484.6839559523805\n",
      "  positive)\n",
      "/Users/jeremysilva/opt/anaconda3/lib/python3.7/site-packages/sklearn/linear_model/coordinate_descent.py:475: ConvergenceWarning: Objective did not converge. You might want to increase the number of iterations. Duality gap: 39975.29904304072, tolerance: 6484.6839559523805\n",
      "  positive)\n"
     ]
    }
   ],
   "source": [
    "# Let's try to optimize Lasso a bit and see what happens\n",
    "# find optimal alpha for Lasso\n",
    "alpha = [0.001, 0.01, 0.1, 1, 10, 100, 1000]\n",
    "for a in alpha:\n",
    "    lasso= linear_model.Lasso(alpha=a)\n",
    "    lasso.fit(x_train_offset, y_train_offset)\n",
    "    score= lasso.score(x_train_offset, y_train_offset)\n",
    "    print('Alpha of {} gives us an R2 of {}'.format(a, score))\n",
    "    print('\\n')\n"
   ]
  },
  {
   "cell_type": "code",
   "execution_count": null,
   "metadata": {},
   "outputs": [],
   "source": []
  },
  {
   "cell_type": "markdown",
   "metadata": {},
   "source": [
    "### Adding a 21 Day Offset "
   ]
  },
  {
   "cell_type": "code",
   "execution_count": 638,
   "metadata": {},
   "outputs": [
    {
     "name": "stderr",
     "output_type": "stream",
     "text": [
      "/Users/jeremysilva/opt/anaconda3/lib/python3.7/site-packages/ipykernel_launcher.py:2: SettingWithCopyWarning: \n",
      "A value is trying to be set on a copy of a slice from a DataFrame.\n",
      "Try using .loc[row_indexer,col_indexer] = value instead\n",
      "\n",
      "See the caveats in the documentation: https://pandas.pydata.org/pandas-docs/stable/user_guide/indexing.html#returning-a-view-versus-a-copy\n",
      "  \n"
     ]
    },
    {
     "data": {
      "text/html": [
       "<div>\n",
       "<style scoped>\n",
       "    .dataframe tbody tr th:only-of-type {\n",
       "        vertical-align: middle;\n",
       "    }\n",
       "\n",
       "    .dataframe tbody tr th {\n",
       "        vertical-align: top;\n",
       "    }\n",
       "\n",
       "    .dataframe thead th {\n",
       "        text-align: right;\n",
       "    }\n",
       "</style>\n",
       "<table border=\"1\" class=\"dataframe\">\n",
       "  <thead>\n",
       "    <tr style=\"text-align: right;\">\n",
       "      <th></th>\n",
       "      <th>state</th>\n",
       "      <th>date</th>\n",
       "      <th>retail_and_recreation</th>\n",
       "      <th>grocery_and_pharmacy</th>\n",
       "      <th>parks</th>\n",
       "      <th>transit</th>\n",
       "      <th>workplace</th>\n",
       "      <th>residential</th>\n",
       "      <th>driving gps hits</th>\n",
       "      <th>transit gps hits</th>\n",
       "      <th>walking gps hits</th>\n",
       "      <th>cases</th>\n",
       "      <th>deaths</th>\n",
       "      <th>Growth Rate</th>\n",
       "      <th>Num New Cases</th>\n",
       "      <th>New Cases 14 Day Offset</th>\n",
       "      <th>New Cases 21 Day Offset</th>\n",
       "    </tr>\n",
       "  </thead>\n",
       "  <tbody>\n",
       "    <tr>\n",
       "      <th>450</th>\n",
       "      <td>California</td>\n",
       "      <td>2020-02-15</td>\n",
       "      <td>1.0</td>\n",
       "      <td>1.0</td>\n",
       "      <td>19.0</td>\n",
       "      <td>1.0</td>\n",
       "      <td>-1.0</td>\n",
       "      <td>0.0</td>\n",
       "      <td>149.625000</td>\n",
       "      <td>98.747059</td>\n",
       "      <td>161.364286</td>\n",
       "      <td>7</td>\n",
       "      <td>0</td>\n",
       "      <td>0.000000</td>\n",
       "      <td>0.0</td>\n",
       "      <td>1.0</td>\n",
       "      <td>14.0</td>\n",
       "    </tr>\n",
       "    <tr>\n",
       "      <th>451</th>\n",
       "      <td>California</td>\n",
       "      <td>2020-02-16</td>\n",
       "      <td>5.0</td>\n",
       "      <td>0.0</td>\n",
       "      <td>31.0</td>\n",
       "      <td>1.0</td>\n",
       "      <td>-1.0</td>\n",
       "      <td>-1.0</td>\n",
       "      <td>128.067973</td>\n",
       "      <td>85.542941</td>\n",
       "      <td>127.493810</td>\n",
       "      <td>7</td>\n",
       "      <td>0</td>\n",
       "      <td>0.000000</td>\n",
       "      <td>0.0</td>\n",
       "      <td>1.0</td>\n",
       "      <td>19.0</td>\n",
       "    </tr>\n",
       "    <tr>\n",
       "      <th>452</th>\n",
       "      <td>California</td>\n",
       "      <td>2020-02-17</td>\n",
       "      <td>9.0</td>\n",
       "      <td>1.0</td>\n",
       "      <td>44.0</td>\n",
       "      <td>-12.0</td>\n",
       "      <td>-38.0</td>\n",
       "      <td>8.0</td>\n",
       "      <td>131.830676</td>\n",
       "      <td>98.512353</td>\n",
       "      <td>119.583333</td>\n",
       "      <td>7</td>\n",
       "      <td>0</td>\n",
       "      <td>0.000000</td>\n",
       "      <td>0.0</td>\n",
       "      <td>5.0</td>\n",
       "      <td>12.0</td>\n",
       "    </tr>\n",
       "    <tr>\n",
       "      <th>453</th>\n",
       "      <td>California</td>\n",
       "      <td>2020-02-18</td>\n",
       "      <td>0.0</td>\n",
       "      <td>0.0</td>\n",
       "      <td>16.0</td>\n",
       "      <td>3.0</td>\n",
       "      <td>0.0</td>\n",
       "      <td>0.0</td>\n",
       "      <td>114.652568</td>\n",
       "      <td>110.847059</td>\n",
       "      <td>109.419524</td>\n",
       "      <td>7</td>\n",
       "      <td>0</td>\n",
       "      <td>0.000000</td>\n",
       "      <td>0.0</td>\n",
       "      <td>5.0</td>\n",
       "      <td>60.0</td>\n",
       "    </tr>\n",
       "    <tr>\n",
       "      <th>454</th>\n",
       "      <td>California</td>\n",
       "      <td>2020-02-19</td>\n",
       "      <td>0.0</td>\n",
       "      <td>0.0</td>\n",
       "      <td>13.0</td>\n",
       "      <td>1.0</td>\n",
       "      <td>0.0</td>\n",
       "      <td>0.0</td>\n",
       "      <td>115.025946</td>\n",
       "      <td>110.649412</td>\n",
       "      <td>112.455238</td>\n",
       "      <td>7</td>\n",
       "      <td>0</td>\n",
       "      <td>0.000000</td>\n",
       "      <td>0.0</td>\n",
       "      <td>7.0</td>\n",
       "      <td>7.0</td>\n",
       "    </tr>\n",
       "    <tr>\n",
       "      <th>455</th>\n",
       "      <td>California</td>\n",
       "      <td>2020-02-20</td>\n",
       "      <td>2.0</td>\n",
       "      <td>1.0</td>\n",
       "      <td>12.0</td>\n",
       "      <td>1.0</td>\n",
       "      <td>0.0</td>\n",
       "      <td>0.0</td>\n",
       "      <td>120.621216</td>\n",
       "      <td>108.973529</td>\n",
       "      <td>114.736667</td>\n",
       "      <td>8</td>\n",
       "      <td>0</td>\n",
       "      <td>14.285714</td>\n",
       "      <td>1.0</td>\n",
       "      <td>10.0</td>\n",
       "      <td>23.0</td>\n",
       "    </tr>\n",
       "    <tr>\n",
       "      <th>456</th>\n",
       "      <td>California</td>\n",
       "      <td>2020-02-21</td>\n",
       "      <td>1.0</td>\n",
       "      <td>0.0</td>\n",
       "      <td>8.0</td>\n",
       "      <td>0.0</td>\n",
       "      <td>1.0</td>\n",
       "      <td>0.0</td>\n",
       "      <td>143.535541</td>\n",
       "      <td>117.529412</td>\n",
       "      <td>139.326190</td>\n",
       "      <td>9</td>\n",
       "      <td>0</td>\n",
       "      <td>12.500000</td>\n",
       "      <td>1.0</td>\n",
       "      <td>12.0</td>\n",
       "      <td>50.0</td>\n",
       "    </tr>\n",
       "    <tr>\n",
       "      <th>457</th>\n",
       "      <td>California</td>\n",
       "      <td>2020-02-22</td>\n",
       "      <td>0.0</td>\n",
       "      <td>0.0</td>\n",
       "      <td>-3.0</td>\n",
       "      <td>-4.0</td>\n",
       "      <td>1.0</td>\n",
       "      <td>1.0</td>\n",
       "      <td>142.735676</td>\n",
       "      <td>97.484118</td>\n",
       "      <td>153.515714</td>\n",
       "      <td>9</td>\n",
       "      <td>0</td>\n",
       "      <td>0.000000</td>\n",
       "      <td>0.0</td>\n",
       "      <td>14.0</td>\n",
       "      <td>68.0</td>\n",
       "    </tr>\n",
       "    <tr>\n",
       "      <th>458</th>\n",
       "      <td>California</td>\n",
       "      <td>2020-02-23</td>\n",
       "      <td>4.0</td>\n",
       "      <td>1.0</td>\n",
       "      <td>16.0</td>\n",
       "      <td>3.0</td>\n",
       "      <td>2.0</td>\n",
       "      <td>0.0</td>\n",
       "      <td>119.011486</td>\n",
       "      <td>88.245294</td>\n",
       "      <td>112.794286</td>\n",
       "      <td>9</td>\n",
       "      <td>0</td>\n",
       "      <td>0.000000</td>\n",
       "      <td>0.0</td>\n",
       "      <td>19.0</td>\n",
       "      <td>61.0</td>\n",
       "    </tr>\n",
       "    <tr>\n",
       "      <th>459</th>\n",
       "      <td>California</td>\n",
       "      <td>2020-02-24</td>\n",
       "      <td>2.0</td>\n",
       "      <td>0.0</td>\n",
       "      <td>12.0</td>\n",
       "      <td>1.0</td>\n",
       "      <td>4.0</td>\n",
       "      <td>0.0</td>\n",
       "      <td>111.661351</td>\n",
       "      <td>109.474706</td>\n",
       "      <td>108.403810</td>\n",
       "      <td>11</td>\n",
       "      <td>0</td>\n",
       "      <td>22.222222</td>\n",
       "      <td>2.0</td>\n",
       "      <td>12.0</td>\n",
       "      <td>97.0</td>\n",
       "    </tr>\n",
       "  </tbody>\n",
       "</table>\n",
       "</div>"
      ],
      "text/plain": [
       "          state        date  retail_and_recreation  grocery_and_pharmacy  \\\n",
       "450  California  2020-02-15                    1.0                   1.0   \n",
       "451  California  2020-02-16                    5.0                   0.0   \n",
       "452  California  2020-02-17                    9.0                   1.0   \n",
       "453  California  2020-02-18                    0.0                   0.0   \n",
       "454  California  2020-02-19                    0.0                   0.0   \n",
       "455  California  2020-02-20                    2.0                   1.0   \n",
       "456  California  2020-02-21                    1.0                   0.0   \n",
       "457  California  2020-02-22                    0.0                   0.0   \n",
       "458  California  2020-02-23                    4.0                   1.0   \n",
       "459  California  2020-02-24                    2.0                   0.0   \n",
       "\n",
       "     parks  transit  workplace  residential  driving gps hits  \\\n",
       "450   19.0      1.0       -1.0          0.0        149.625000   \n",
       "451   31.0      1.0       -1.0         -1.0        128.067973   \n",
       "452   44.0    -12.0      -38.0          8.0        131.830676   \n",
       "453   16.0      3.0        0.0          0.0        114.652568   \n",
       "454   13.0      1.0        0.0          0.0        115.025946   \n",
       "455   12.0      1.0        0.0          0.0        120.621216   \n",
       "456    8.0      0.0        1.0          0.0        143.535541   \n",
       "457   -3.0     -4.0        1.0          1.0        142.735676   \n",
       "458   16.0      3.0        2.0          0.0        119.011486   \n",
       "459   12.0      1.0        4.0          0.0        111.661351   \n",
       "\n",
       "     transit gps hits  walking gps hits  cases  deaths  Growth Rate  \\\n",
       "450         98.747059        161.364286      7       0     0.000000   \n",
       "451         85.542941        127.493810      7       0     0.000000   \n",
       "452         98.512353        119.583333      7       0     0.000000   \n",
       "453        110.847059        109.419524      7       0     0.000000   \n",
       "454        110.649412        112.455238      7       0     0.000000   \n",
       "455        108.973529        114.736667      8       0    14.285714   \n",
       "456        117.529412        139.326190      9       0    12.500000   \n",
       "457         97.484118        153.515714      9       0     0.000000   \n",
       "458         88.245294        112.794286      9       0     0.000000   \n",
       "459        109.474706        108.403810     11       0    22.222222   \n",
       "\n",
       "     Num New Cases  New Cases 14 Day Offset  New Cases 21 Day Offset  \n",
       "450            0.0                      1.0                     14.0  \n",
       "451            0.0                      1.0                     19.0  \n",
       "452            0.0                      5.0                     12.0  \n",
       "453            0.0                      5.0                     60.0  \n",
       "454            0.0                      7.0                      7.0  \n",
       "455            1.0                     10.0                     23.0  \n",
       "456            1.0                     12.0                     50.0  \n",
       "457            0.0                     14.0                     68.0  \n",
       "458            0.0                     19.0                     61.0  \n",
       "459            2.0                     12.0                     97.0  "
      ]
     },
     "execution_count": 638,
     "metadata": {},
     "output_type": "execute_result"
    }
   ],
   "source": [
    "# Add a new column that has the Number of new cases 21 days in the Future\n",
    "ca['New Cases 21 Day Offset']= ca['Num New Cases'].shift(-20)\n",
    "ca.head(10)"
   ]
  },
  {
   "cell_type": "code",
   "execution_count": 639,
   "metadata": {},
   "outputs": [
    {
     "name": "stdout",
     "output_type": "stream",
     "text": [
      "<class 'pandas.core.frame.DataFrame'>\n",
      "Int64Index: 112 entries, 450 to 561\n",
      "Data columns (total 17 columns):\n",
      " #   Column                   Non-Null Count  Dtype  \n",
      "---  ------                   --------------  -----  \n",
      " 0   state                    112 non-null    object \n",
      " 1   date                     112 non-null    object \n",
      " 2   retail_and_recreation    112 non-null    float64\n",
      " 3   grocery_and_pharmacy     112 non-null    float64\n",
      " 4   parks                    112 non-null    float64\n",
      " 5   transit                  112 non-null    float64\n",
      " 6   workplace                112 non-null    float64\n",
      " 7   residential              112 non-null    float64\n",
      " 8   driving gps hits         112 non-null    float64\n",
      " 9   transit gps hits         112 non-null    float64\n",
      " 10  walking gps hits         112 non-null    float64\n",
      " 11  cases                    112 non-null    int64  \n",
      " 12  deaths                   112 non-null    int64  \n",
      " 13  Growth Rate              112 non-null    float64\n",
      " 14  Num New Cases            112 non-null    float64\n",
      " 15  New Cases 14 Day Offset  112 non-null    float64\n",
      " 16  New Cases 21 Day Offset  112 non-null    float64\n",
      "dtypes: float64(13), int64(2), object(2)\n",
      "memory usage: 15.8+ KB\n"
     ]
    }
   ],
   "source": [
    "# We will now have NaNs on the last 21 days of our dataset so we create a new dataset with those NA's cropped\n",
    "ca_cropped_21= ca.dropna()\n",
    "ca_cropped_21.info()\n",
    "\n"
   ]
  },
  {
   "cell_type": "code",
   "execution_count": 640,
   "metadata": {},
   "outputs": [
    {
     "name": "stdout",
     "output_type": "stream",
     "text": [
      "(77, 9)\n",
      "(35, 9)\n",
      "(77, 1)\n",
      "(35, 1)\n",
      "Index(['retail_and_recreation', 'grocery_and_pharmacy', 'parks', 'transit',\n",
      "       'workplace', 'residential', 'driving gps hits', 'transit gps hits',\n",
      "       'walking gps hits'],\n",
      "      dtype='object')\n"
     ]
    }
   ],
   "source": [
    "# We need to reallocate test and train now that there are only 112 observations\n",
    "# First 77 rows will be training (70%) and the rest will be test\n",
    "x_train_offset_21= ca_cropped_21[:77].drop(columns=['state', 'date', 'cases', 'deaths', 'Growth Rate', 'Num New Cases', 'New Cases 14 Day Offset','New Cases 21 Day Offset'])\n",
    "x_test_offset_21= ca_cropped_21[77:].drop(columns=['state', 'date', 'cases', 'deaths', 'Growth Rate', 'Num New Cases', 'New Cases 14 Day Offset', 'New Cases 21 Day Offset'])\n",
    "y_train_offset_21= pd.DataFrame(ca_cropped_21['New Cases 21 Day Offset'][:77])\n",
    "y_test_offset_21= pd.DataFrame(ca_cropped_21['New Cases 21 Day Offset'][77:])\n",
    "\n",
    "print(x_train_offset_21.shape)\n",
    "print(x_test_offset_21.shape)\n",
    "print(y_train_offset_21.shape)\n",
    "print(y_test_offset_21.shape)\n",
    "print(x_train_offset_21.columns)"
   ]
  },
  {
   "cell_type": "code",
   "execution_count": 641,
   "metadata": {},
   "outputs": [
    {
     "name": "stdout",
     "output_type": "stream",
     "text": [
      "(77, 9)\n",
      "(35, 9)\n",
      "LinearRegression(copy_X=True, fit_intercept=True, n_jobs=None, normalize=False) score: 0.6341287014754475\n"
     ]
    },
    {
     "data": {
      "image/png": "[encoded data removed]",
      "text/plain": [
       "<Figure size 432x288 with 1 Axes>"
      ]
     },
     "metadata": {
      "needs_background": "light"
     },
     "output_type": "display_data"
    },
    {
     "name": "stdout",
     "output_type": "stream",
     "text": [
      "\n",
      "\n",
      "Ridge(alpha=1.0, copy_X=True, fit_intercept=True, max_iter=None,\n",
      "      normalize=False, random_state=None, solver='auto', tol=0.001) score: 0.6318216853974172\n"
     ]
    },
    {
     "data": {
      "image/png": "[encoded data removed]",
      "text/plain": [
       "<Figure size 432x288 with 1 Axes>"
      ]
     },
     "metadata": {
      "needs_background": "light"
     },
     "output_type": "display_data"
    },
    {
     "name": "stdout",
     "output_type": "stream",
     "text": [
      "\n",
      "\n",
      "Lasso(alpha=1.0, copy_X=True, fit_intercept=True, max_iter=1000,\n",
      "      normalize=False, positive=False, precompute=False, random_state=None,\n",
      "      selection='cyclic', tol=0.0001, warm_start=False) score: 0.633837251985001\n"
     ]
    },
    {
     "data": {
      "image/png": "[encoded data removed]",
      "text/plain": [
       "<Figure size 432x288 with 1 Axes>"
      ]
     },
     "metadata": {
      "needs_background": "light"
     },
     "output_type": "display_data"
    },
    {
     "name": "stdout",
     "output_type": "stream",
     "text": [
      "\n",
      "\n",
      "ElasticNet(alpha=1.0, copy_X=True, fit_intercept=True, l1_ratio=0.5,\n",
      "           max_iter=1000, normalize=False, positive=False, precompute=False,\n",
      "           random_state=None, selection='cyclic', tol=0.0001, warm_start=False) score: 0.5680688508583187\n"
     ]
    },
    {
     "data": {
      "image/png": "[encoded data removed]",
      "text/plain": [
       "<Figure size 432x288 with 1 Axes>"
      ]
     },
     "metadata": {
      "needs_background": "light"
     },
     "output_type": "display_data"
    },
    {
     "name": "stdout",
     "output_type": "stream",
     "text": [
      "\n",
      "\n",
      "LassoLars(alpha=1.0, copy_X=True, eps=2.220446049250313e-16, fit_intercept=True,\n",
      "          fit_path=True, max_iter=500, normalize=True, positive=False,\n",
      "          precompute='auto', verbose=False) score: 0.6306092163207586\n"
     ]
    },
    {
     "data": {
      "image/png": "[encoded data removed]",
      "text/plain": [
       "<Figure size 432x288 with 1 Axes>"
      ]
     },
     "metadata": {
      "needs_background": "light"
     },
     "output_type": "display_data"
    },
    {
     "name": "stdout",
     "output_type": "stream",
     "text": [
      "\n",
      "\n",
      "BayesianRidge(alpha_1=1e-06, alpha_2=1e-06, compute_score=False, copy_X=True,\n",
      "              fit_intercept=True, lambda_1=1e-06, lambda_2=1e-06, n_iter=300,\n",
      "              normalize=False, tol=0.001, verbose=False) score: 0.6191917554406801\n"
     ]
    },
    {
     "name": "stderr",
     "output_type": "stream",
     "text": [
      "/Users/jeremysilva/opt/anaconda3/lib/python3.7/site-packages/sklearn/utils/validation.py:724: DataConversionWarning: A column-vector y was passed when a 1d array was expected. Please change the shape of y to (n_samples, ), for example using ravel().\n",
      "  y = column_or_1d(y, warn=True)\n"
     ]
    },
    {
     "data": {
      "image/png": "[encoded data removed]",
      "text/plain": [
       "<Figure size 432x288 with 1 Axes>"
      ]
     },
     "metadata": {
      "needs_background": "light"
     },
     "output_type": "display_data"
    },
    {
     "name": "stdout",
     "output_type": "stream",
     "text": [
      "\n",
      "\n"
     ]
    }
   ],
   "source": [
    "# scaling data\n",
    "scaler = StandardScaler()\n",
    "x_train_offset_21 = scaler.fit_transform(x_train_offset_21)\n",
    "x_test_offset_21 = scaler.transform(x_test_offset_21)\n",
    "\n",
    "print(x_train_offset_21.shape)\n",
    "print(x_test_offset_21.shape)\n",
    "\n",
    "# define models\n",
    "linear= linear_model.LinearRegression()\n",
    "ridge = linear_model.Ridge()\n",
    "lasso = linear_model.Lasso()\n",
    "elastic = linear_model.ElasticNet()\n",
    "lasso_lars = linear_model.LassoLars()\n",
    "bayesian_ridge = linear_model.BayesianRidge()\n",
    "\n",
    "for model in models: \n",
    "    model.fit(x_train_offset_21, y_train_offset_21)\n",
    "    score= model.score(x_train_offset_21, y_train_offset_21)\n",
    "    print('{} score: {}'.format(model, score))\n",
    "    y_pred= model.predict(x_test_offset_21)\n",
    "    # Use our new model to make predictions\n",
    "    plt.scatter(y_pred, y_test_offset_21)\n",
    "    plt.xlabel('Predicted Num New Cases')\n",
    "    plt.ylabel('Actual Num New Cases')\n",
    "    plt.show()\n",
    "    print('\\n')"
   ]
  },
  {
   "cell_type": "code",
   "execution_count": null,
   "metadata": {},
   "outputs": [],
   "source": []
  }
 ],
 "metadata": {
  "kernelspec": {
   "display_name": "Python 3",
   "language": "python",
   "name": "python3"
  },
  "language_info": {
   "codemirror_mode": {
    "name": "ipython",
    "version": 3
   },
   "file_extension": ".py",
   "mimetype": "text/x-python",
   "name": "python",
   "nbconvert_exporter": "python",
   "pygments_lexer": "ipython3",
   "version": "3.7.4"
  }
 },
 "nbformat": 4,
 "nbformat_minor": 2
}
