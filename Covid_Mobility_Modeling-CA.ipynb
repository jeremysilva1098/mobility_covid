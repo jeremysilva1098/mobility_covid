{
 "cells": [
  {
   "cell_type": "markdown",
   "metadata": {},
   "source": [
    "# Modeling: Covid-19 and Mobility\n",
    "\n",
    "### The goal of this notebook is to build a model for California that will use the mobility markers in our data set to forcast the number of new COVID-19 cases in a 14 day window"
   ]
  },
  {
   "cell_type": "code",
   "execution_count": 64,
   "metadata": {},
   "outputs": [
    {
     "data": {
      "text/plain": [
       "RandomState(MT19937) at 0x1340FBD10"
      ]
     },
     "execution_count": 64,
     "metadata": {},
     "output_type": "execute_result"
    }
   ],
   "source": [
    "import pandas as pd\n",
    "import matplotlib.pyplot as plt\n",
    "%matplotlib inline\n",
    "import seaborn as sns \n",
    "import numpy as np\n",
    "\n",
    "from sklearn.model_selection import train_test_split, cross_val_score\n",
    "from sklearn.preprocessing import StandardScaler\n",
    "\n",
    "from sklearn import linear_model\n",
    "from sklearn.model_selection import GridSearchCV, RandomizedSearchCV\n",
    "from sklearn.metrics import mean_absolute_error\n",
    "\n",
    "# We are going to get a Convergence warning but want to ignore it \n",
    "import warnings\n",
    "from sklearn.exceptions import ConvergenceWarning\n",
    "warnings.filterwarnings(\"ignore\", category=ConvergenceWarning,\n",
    "                        module=\"sklearn\")\n",
    "# Set random seed\n",
    "np.random.RandomState(seed=42)"
   ]
  },
  {
   "cell_type": "code",
   "execution_count": 65,
   "metadata": {},
   "outputs": [
    {
     "data": {
      "text/html": [
       "<div>\n",
       "<style scoped>\n",
       "    .dataframe tbody tr th:only-of-type {\n",
       "        vertical-align: middle;\n",
       "    }\n",
       "\n",
       "    .dataframe tbody tr th {\n",
       "        vertical-align: top;\n",
       "    }\n",
       "\n",
       "    .dataframe thead th {\n",
       "        text-align: right;\n",
       "    }\n",
       "</style>\n",
       "<table border=\"1\" class=\"dataframe\">\n",
       "  <thead>\n",
       "    <tr style=\"text-align: right;\">\n",
       "      <th></th>\n",
       "      <th>state</th>\n",
       "      <th>date</th>\n",
       "      <th>retail_and_recreation</th>\n",
       "      <th>grocery_and_pharmacy</th>\n",
       "      <th>parks</th>\n",
       "      <th>transit</th>\n",
       "      <th>workplace</th>\n",
       "      <th>residential</th>\n",
       "      <th>driving gps hits</th>\n",
       "      <th>transit gps hits</th>\n",
       "      <th>walking gps hits</th>\n",
       "      <th>cases</th>\n",
       "      <th>deaths</th>\n",
       "      <th>Growth Rate</th>\n",
       "      <th>Num New Cases</th>\n",
       "    </tr>\n",
       "  </thead>\n",
       "  <tbody>\n",
       "    <tr>\n",
       "      <th>0</th>\n",
       "      <td>Alabama</td>\n",
       "      <td>2020-03-13</td>\n",
       "      <td>7.0</td>\n",
       "      <td>32.0</td>\n",
       "      <td>26.0</td>\n",
       "      <td>7.0</td>\n",
       "      <td>-2.0</td>\n",
       "      <td>0.0</td>\n",
       "      <td>160.430000</td>\n",
       "      <td>110.95</td>\n",
       "      <td>110.84</td>\n",
       "      <td>6</td>\n",
       "      <td>0</td>\n",
       "      <td>NaN</td>\n",
       "      <td>NaN</td>\n",
       "    </tr>\n",
       "    <tr>\n",
       "      <th>1</th>\n",
       "      <td>Alabama</td>\n",
       "      <td>2020-03-14</td>\n",
       "      <td>1.0</td>\n",
       "      <td>28.0</td>\n",
       "      <td>55.0</td>\n",
       "      <td>12.0</td>\n",
       "      <td>4.0</td>\n",
       "      <td>0.0</td>\n",
       "      <td>169.976429</td>\n",
       "      <td>116.64</td>\n",
       "      <td>114.48</td>\n",
       "      <td>12</td>\n",
       "      <td>0</td>\n",
       "      <td>100.000000</td>\n",
       "      <td>6.0</td>\n",
       "    </tr>\n",
       "    <tr>\n",
       "      <th>2</th>\n",
       "      <td>Alabama</td>\n",
       "      <td>2020-03-15</td>\n",
       "      <td>-7.0</td>\n",
       "      <td>16.0</td>\n",
       "      <td>16.0</td>\n",
       "      <td>6.0</td>\n",
       "      <td>-4.0</td>\n",
       "      <td>2.0</td>\n",
       "      <td>119.303036</td>\n",
       "      <td>78.24</td>\n",
       "      <td>59.90</td>\n",
       "      <td>23</td>\n",
       "      <td>0</td>\n",
       "      <td>91.666667</td>\n",
       "      <td>11.0</td>\n",
       "    </tr>\n",
       "    <tr>\n",
       "      <th>3</th>\n",
       "      <td>Alabama</td>\n",
       "      <td>2020-03-16</td>\n",
       "      <td>-2.0</td>\n",
       "      <td>24.0</td>\n",
       "      <td>22.0</td>\n",
       "      <td>2.0</td>\n",
       "      <td>-10.0</td>\n",
       "      <td>4.0</td>\n",
       "      <td>116.498750</td>\n",
       "      <td>91.18</td>\n",
       "      <td>77.73</td>\n",
       "      <td>29</td>\n",
       "      <td>0</td>\n",
       "      <td>26.086957</td>\n",
       "      <td>6.0</td>\n",
       "    </tr>\n",
       "    <tr>\n",
       "      <th>4</th>\n",
       "      <td>Alabama</td>\n",
       "      <td>2020-03-17</td>\n",
       "      <td>-11.0</td>\n",
       "      <td>17.0</td>\n",
       "      <td>25.0</td>\n",
       "      <td>-1.0</td>\n",
       "      <td>-17.0</td>\n",
       "      <td>7.0</td>\n",
       "      <td>107.171250</td>\n",
       "      <td>84.92</td>\n",
       "      <td>72.97</td>\n",
       "      <td>39</td>\n",
       "      <td>0</td>\n",
       "      <td>34.482759</td>\n",
       "      <td>10.0</td>\n",
       "    </tr>\n",
       "  </tbody>\n",
       "</table>\n",
       "</div>"
      ],
      "text/plain": [
       "     state        date  retail_and_recreation  grocery_and_pharmacy  parks  \\\n",
       "0  Alabama  2020-03-13                    7.0                  32.0   26.0   \n",
       "1  Alabama  2020-03-14                    1.0                  28.0   55.0   \n",
       "2  Alabama  2020-03-15                   -7.0                  16.0   16.0   \n",
       "3  Alabama  2020-03-16                   -2.0                  24.0   22.0   \n",
       "4  Alabama  2020-03-17                  -11.0                  17.0   25.0   \n",
       "\n",
       "   transit  workplace  residential  driving gps hits  transit gps hits  \\\n",
       "0      7.0       -2.0          0.0        160.430000            110.95   \n",
       "1     12.0        4.0          0.0        169.976429            116.64   \n",
       "2      6.0       -4.0          2.0        119.303036             78.24   \n",
       "3      2.0      -10.0          4.0        116.498750             91.18   \n",
       "4     -1.0      -17.0          7.0        107.171250             84.92   \n",
       "\n",
       "   walking gps hits  cases  deaths  Growth Rate  Num New Cases  \n",
       "0            110.84      6       0          NaN            NaN  \n",
       "1            114.48     12       0   100.000000            6.0  \n",
       "2             59.90     23       0    91.666667           11.0  \n",
       "3             77.73     29       0    26.086957            6.0  \n",
       "4             72.97     39       0    34.482759           10.0  "
      ]
     },
     "execution_count": 65,
     "metadata": {},
     "output_type": "execute_result"
    }
   ],
   "source": [
    "# Read in the dataset\n",
    "full_df= pd.read_csv('Data/full_data_growth_included.csv', index_col=0)\n",
    "full_df.head()"
   ]
  },
  {
   "cell_type": "code",
   "execution_count": 66,
   "metadata": {},
   "outputs": [
    {
     "data": {
      "text/html": [
       "<div>\n",
       "<style scoped>\n",
       "    .dataframe tbody tr th:only-of-type {\n",
       "        vertical-align: middle;\n",
       "    }\n",
       "\n",
       "    .dataframe tbody tr th {\n",
       "        vertical-align: top;\n",
       "    }\n",
       "\n",
       "    .dataframe thead th {\n",
       "        text-align: right;\n",
       "    }\n",
       "</style>\n",
       "<table border=\"1\" class=\"dataframe\">\n",
       "  <thead>\n",
       "    <tr style=\"text-align: right;\">\n",
       "      <th></th>\n",
       "      <th>state</th>\n",
       "      <th>date</th>\n",
       "      <th>retail_and_recreation</th>\n",
       "      <th>grocery_and_pharmacy</th>\n",
       "      <th>parks</th>\n",
       "      <th>transit</th>\n",
       "      <th>workplace</th>\n",
       "      <th>residential</th>\n",
       "      <th>driving gps hits</th>\n",
       "      <th>transit gps hits</th>\n",
       "      <th>walking gps hits</th>\n",
       "      <th>cases</th>\n",
       "      <th>deaths</th>\n",
       "      <th>Growth Rate</th>\n",
       "      <th>Num New Cases</th>\n",
       "    </tr>\n",
       "  </thead>\n",
       "  <tbody>\n",
       "    <tr>\n",
       "      <th>450</th>\n",
       "      <td>California</td>\n",
       "      <td>2020-02-15</td>\n",
       "      <td>1.0</td>\n",
       "      <td>1.0</td>\n",
       "      <td>19.0</td>\n",
       "      <td>1.0</td>\n",
       "      <td>-1.0</td>\n",
       "      <td>0.0</td>\n",
       "      <td>149.625000</td>\n",
       "      <td>98.747059</td>\n",
       "      <td>161.364286</td>\n",
       "      <td>7</td>\n",
       "      <td>0</td>\n",
       "      <td>0.0</td>\n",
       "      <td>0.0</td>\n",
       "    </tr>\n",
       "    <tr>\n",
       "      <th>451</th>\n",
       "      <td>California</td>\n",
       "      <td>2020-02-16</td>\n",
       "      <td>5.0</td>\n",
       "      <td>0.0</td>\n",
       "      <td>31.0</td>\n",
       "      <td>1.0</td>\n",
       "      <td>-1.0</td>\n",
       "      <td>-1.0</td>\n",
       "      <td>128.067973</td>\n",
       "      <td>85.542941</td>\n",
       "      <td>127.493810</td>\n",
       "      <td>7</td>\n",
       "      <td>0</td>\n",
       "      <td>0.0</td>\n",
       "      <td>0.0</td>\n",
       "    </tr>\n",
       "    <tr>\n",
       "      <th>452</th>\n",
       "      <td>California</td>\n",
       "      <td>2020-02-17</td>\n",
       "      <td>9.0</td>\n",
       "      <td>1.0</td>\n",
       "      <td>44.0</td>\n",
       "      <td>-12.0</td>\n",
       "      <td>-38.0</td>\n",
       "      <td>8.0</td>\n",
       "      <td>131.830676</td>\n",
       "      <td>98.512353</td>\n",
       "      <td>119.583333</td>\n",
       "      <td>7</td>\n",
       "      <td>0</td>\n",
       "      <td>0.0</td>\n",
       "      <td>0.0</td>\n",
       "    </tr>\n",
       "    <tr>\n",
       "      <th>453</th>\n",
       "      <td>California</td>\n",
       "      <td>2020-02-18</td>\n",
       "      <td>0.0</td>\n",
       "      <td>0.0</td>\n",
       "      <td>16.0</td>\n",
       "      <td>3.0</td>\n",
       "      <td>0.0</td>\n",
       "      <td>0.0</td>\n",
       "      <td>114.652568</td>\n",
       "      <td>110.847059</td>\n",
       "      <td>109.419524</td>\n",
       "      <td>7</td>\n",
       "      <td>0</td>\n",
       "      <td>0.0</td>\n",
       "      <td>0.0</td>\n",
       "    </tr>\n",
       "    <tr>\n",
       "      <th>454</th>\n",
       "      <td>California</td>\n",
       "      <td>2020-02-19</td>\n",
       "      <td>0.0</td>\n",
       "      <td>0.0</td>\n",
       "      <td>13.0</td>\n",
       "      <td>1.0</td>\n",
       "      <td>0.0</td>\n",
       "      <td>0.0</td>\n",
       "      <td>115.025946</td>\n",
       "      <td>110.649412</td>\n",
       "      <td>112.455238</td>\n",
       "      <td>7</td>\n",
       "      <td>0</td>\n",
       "      <td>0.0</td>\n",
       "      <td>0.0</td>\n",
       "    </tr>\n",
       "  </tbody>\n",
       "</table>\n",
       "</div>"
      ],
      "text/plain": [
       "          state        date  retail_and_recreation  grocery_and_pharmacy  \\\n",
       "450  California  2020-02-15                    1.0                   1.0   \n",
       "451  California  2020-02-16                    5.0                   0.0   \n",
       "452  California  2020-02-17                    9.0                   1.0   \n",
       "453  California  2020-02-18                    0.0                   0.0   \n",
       "454  California  2020-02-19                    0.0                   0.0   \n",
       "\n",
       "     parks  transit  workplace  residential  driving gps hits  \\\n",
       "450   19.0      1.0       -1.0          0.0        149.625000   \n",
       "451   31.0      1.0       -1.0         -1.0        128.067973   \n",
       "452   44.0    -12.0      -38.0          8.0        131.830676   \n",
       "453   16.0      3.0        0.0          0.0        114.652568   \n",
       "454   13.0      1.0        0.0          0.0        115.025946   \n",
       "\n",
       "     transit gps hits  walking gps hits  cases  deaths  Growth Rate  \\\n",
       "450         98.747059        161.364286      7       0          0.0   \n",
       "451         85.542941        127.493810      7       0          0.0   \n",
       "452         98.512353        119.583333      7       0          0.0   \n",
       "453        110.847059        109.419524      7       0          0.0   \n",
       "454        110.649412        112.455238      7       0          0.0   \n",
       "\n",
       "     Num New Cases  \n",
       "450            0.0  \n",
       "451            0.0  \n",
       "452            0.0  \n",
       "453            0.0  \n",
       "454            0.0  "
      ]
     },
     "execution_count": 66,
     "metadata": {},
     "output_type": "execute_result"
    }
   ],
   "source": [
    "# Extract California dataset\n",
    "ca= full_df[full_df['state'] == 'California']\n",
    "ca.head()"
   ]
  },
  {
   "cell_type": "code",
   "execution_count": 67,
   "metadata": {},
   "outputs": [
    {
     "name": "stdout",
     "output_type": "stream",
     "text": [
      "<class 'pandas.core.frame.DataFrame'>\n",
      "Int64Index: 132 entries, 450 to 581\n",
      "Data columns (total 15 columns):\n",
      " #   Column                 Non-Null Count  Dtype  \n",
      "---  ------                 --------------  -----  \n",
      " 0   state                  132 non-null    object \n",
      " 1   date                   132 non-null    object \n",
      " 2   retail_and_recreation  132 non-null    float64\n",
      " 3   grocery_and_pharmacy   132 non-null    float64\n",
      " 4   parks                  132 non-null    float64\n",
      " 5   transit                132 non-null    float64\n",
      " 6   workplace              132 non-null    float64\n",
      " 7   residential            132 non-null    float64\n",
      " 8   driving gps hits       132 non-null    float64\n",
      " 9   transit gps hits       132 non-null    float64\n",
      " 10  walking gps hits       132 non-null    float64\n",
      " 11  cases                  132 non-null    int64  \n",
      " 12  deaths                 132 non-null    int64  \n",
      " 13  Growth Rate            132 non-null    float64\n",
      " 14  Num New Cases          132 non-null    float64\n",
      "dtypes: float64(11), int64(2), object(2)\n",
      "memory usage: 16.5+ KB\n"
     ]
    }
   ],
   "source": [
    "ca.info()"
   ]
  },
  {
   "cell_type": "code",
   "execution_count": 68,
   "metadata": {},
   "outputs": [
    {
     "name": "stdout",
     "output_type": "stream",
     "text": [
      "The California data starts on 2020-02-15 and runs through 2020-06-27.\n"
     ]
    }
   ],
   "source": [
    "ca_start_date= ca.date.min()\n",
    "ca_end_date= ca.date.max()\n",
    "print('The California data starts on {} and runs through {}.'.format(ca_start_date, ca_end_date))"
   ]
  },
  {
   "cell_type": "markdown",
   "metadata": {},
   "source": [
    "### Vanilla Linear Regression (Baseline Model)\n",
    "\n",
    "14 day Prediction Time\n",
    "\n",
    "We will use our mobility markers to predict COVID-19 infection rate 14 days into the future "
   ]
  },
  {
   "cell_type": "code",
   "execution_count": 69,
   "metadata": {},
   "outputs": [
    {
     "name": "stdout",
     "output_type": "stream",
     "text": [
      "Our X variables will be ['retail_and_recreation', 'grocery_and_pharmacy', 'parks', 'transit', 'workplace', 'residential', 'driving gps hits', 'transit gps hits', 'walking gps hits'].\n",
      "\n",
      "\n",
      "Our y variable will be ['Num New Cases'].\n"
     ]
    }
   ],
   "source": [
    "# We will do a manual train and test split of the data. Because there are 132 days in the dataset I will use the first\n",
    "# 118 days for training and then use the last 14 days for testing \n",
    "x_train= ca[:118].drop(columns=['state', 'date', 'cases', 'deaths', 'Growth Rate', 'Num New Cases'])\n",
    "x_test= ca[118:].drop(columns=['state', 'date', 'cases', 'deaths', 'Growth Rate', 'Num New Cases'])\n",
    "y_train= pd.DataFrame(ca['Num New Cases'][:118])\n",
    "y_test= pd.DataFrame(ca['Num New Cases'][118:])\n",
    "\n",
    "print('Our X variables will be {}.'.format(list(x_train.columns)))\n",
    "print('\\n')\n",
    "print('Our y variable will be {}.'.format(list(y_train.columns)))"
   ]
  },
  {
   "cell_type": "code",
   "execution_count": 70,
   "metadata": {},
   "outputs": [
    {
     "name": "stdout",
     "output_type": "stream",
     "text": [
      "(118, 9)\n",
      "(14, 9)\n",
      "(118, 1)\n",
      "(14, 1)\n"
     ]
    }
   ],
   "source": [
    "# scaling data\n",
    "scaler = StandardScaler()\n",
    "x_train = scaler.fit_transform(x_train)\n",
    "x_test = scaler.transform(x_test)\n",
    "\n",
    "print(x_train.shape)\n",
    "print(x_test.shape)\n",
    "print(y_train.shape)\n",
    "print(y_test.shape)"
   ]
  },
  {
   "cell_type": "code",
   "execution_count": 71,
   "metadata": {},
   "outputs": [
    {
     "name": "stdout",
     "output_type": "stream",
     "text": [
      "R2 TRAIN: 0.7750292849035303\n",
      "R2 TEST: -1.2227800956307986\n"
     ]
    }
   ],
   "source": [
    "from sklearn.metrics import mean_absolute_error\n",
    "linear= linear_model.LinearRegression()\n",
    "linear.fit(x_train, y_train)\n",
    "r2_train= linear.score(x_train, y_train)\n",
    "r2_test= linear.score(x_test, y_test)\n",
    "print('R2 TRAIN: {}'.format(r2_train))\n",
    "print('R2 TEST: {}'.format(r2_test))"
   ]
  },
  {
   "cell_type": "code",
   "execution_count": 72,
   "metadata": {},
   "outputs": [
    {
     "name": "stdout",
     "output_type": "stream",
     "text": [
      "MAE TRAIN: 362.26899913182297\n",
      "MAE TEST: 1323.4864985461463\n"
     ]
    }
   ],
   "source": [
    "y_pred_train= linear.predict(x_train)\n",
    "y_pred_test= linear.predict(x_test)\n",
    "mae_train= mean_absolute_error(y_train, y_pred_train)\n",
    "mae_test= mean_absolute_error(y_test, y_pred_test)\n",
    "print('MAE TRAIN: {}'.format(mae_train))\n",
    "print('MAE TEST: {}'.format(mae_test))\n"
   ]
  },
  {
   "cell_type": "code",
   "execution_count": 73,
   "metadata": {},
   "outputs": [
    {
     "data": {
      "image/png": "[encoded data removed]",
      "text/plain": [
       "<Figure size 432x288 with 1 Axes>"
      ]
     },
     "metadata": {
      "needs_background": "light"
     },
     "output_type": "display_data"
    },
    {
     "data": {
      "image/png": "[encoded data removed]",
      "text/plain": [
       "<Figure size 864x576 with 1 Axes>"
      ]
     },
     "metadata": {
      "needs_background": "light"
     },
     "output_type": "display_data"
    }
   ],
   "source": [
    "df= y_test.copy()\n",
    "df['Predicted New Cases']= y_pred_test\n",
    "\n",
    "# Line graph\n",
    "sns.lineplot(data= df)\n",
    "plt.title('Vanilla Linear Regression Model Performance')\n",
    "sns.despine()\n",
    "plt.savefig('Images/vanilla_line.png')\n",
    "plt.show()\n",
    "\n",
    "# Add an error colum to the df\n",
    "df[\"Error\"]= np.abs(df['Num New Cases'] - df['Predicted New Cases'])\n",
    "\n",
    "# Bar graph of predicted vs actual \n",
    "df.plot(kind='bar',figsize=(12,8))\n",
    "plt.grid(which='major', linestyle='-', linewidth='0.5', color='green')\n",
    "plt.grid(which='minor', linestyle=':', linewidth='0.5', color='black')\n",
    "plt.title('Vanilla Linear Regression Model Performance')\n",
    "plt.xlabel('Day of Outbreak')\n",
    "plt.ylabel('Number of Cases')\n",
    "sns.despine()\n",
    "plt.grid(b=None)\n",
    "plt.savefig('Images/vanilla_bar.png')\n",
    "plt.show()"
   ]
  },
  {
   "cell_type": "code",
   "execution_count": 74,
   "metadata": {},
   "outputs": [
    {
     "data": {
      "text/plain": [
       "Text(0.5, 1.0, 'Residual Plot: Vanilla Linear Regression')"
      ]
     },
     "execution_count": 74,
     "metadata": {},
     "output_type": "execute_result"
    },
    {
     "data": {
      "image/png": "[encoded data removed]",
      "text/plain": [
       "<Figure size 432x288 with 1 Axes>"
      ]
     },
     "metadata": {
      "needs_background": "light"
     },
     "output_type": "display_data"
    }
   ],
   "source": [
    "sns.residplot(y_pred_test, y_test, color=\"g\")\n",
    "plt.title('Residual Plot: Vanilla Linear Regression')"
   ]
  },
  {
   "cell_type": "markdown",
   "metadata": {},
   "source": [
    "### Tackiling the Overfitting\n",
    "\n",
    "Our model is performing rather poorly and severley overfitting the data so we will try to address the problem with either Lasso or Ridge regression methods"
   ]
  },
  {
   "cell_type": "code",
   "execution_count": 75,
   "metadata": {},
   "outputs": [
    {
     "name": "stdout",
     "output_type": "stream",
     "text": [
      "Lasso Regression\n",
      "Best MAE:  -537.1120605054602\n",
      "Best Params:  {'alpha': 10}\n",
      "\n",
      "\n",
      "Ridge Regression\n",
      "Best MAE:  -535.8824952720195\n",
      "Best Params:  {'alpha': 1}\n",
      "\n",
      "\n",
      "ElasticNet\n",
      "Best MAE:  -527.732797509139\n",
      "Best Params:  {'alpha': 0.1}\n"
     ]
    }
   ],
   "source": [
    "# Lasso\n",
    "alpha= [0.0001, 0.001, 0.01, 0.1, 1, 10, 100, 1000]\n",
    "param_grid= dict(alpha= alpha)\n",
    "\n",
    "grid= GridSearchCV(linear_model.Lasso(), param_grid, scoring='neg_mean_absolute_error', cv=5)\n",
    "grid_result= grid.fit(x_train, y_train)\n",
    "\n",
    "print('Lasso Regression')\n",
    "print('Best MAE: ', grid_result.best_score_)\n",
    "print('Best Params: ', grid_result.best_params_)\n",
    "print('\\n')\n",
    "\n",
    "alpha= [0.0001, 0.001, 0.01, 0.1, 1, 10, 100, 1000]\n",
    "param_grid= dict(alpha= alpha)\n",
    "\n",
    "# Ridge\n",
    "grid= GridSearchCV(linear_model.Ridge(), param_grid, scoring='neg_mean_absolute_error', cv=5)\n",
    "grid_result= grid.fit(x_train, y_train)\n",
    "\n",
    "print('Ridge Regression')\n",
    "print('Best MAE: ', grid_result.best_score_)\n",
    "print('Best Params: ', grid_result.best_params_)\n",
    "print('\\n')\n",
    "\n",
    "#ElasticNet\n",
    "alpha= [0.0001, 0.001, 0.01, 0.1, 1, 10, 100, 1000]\n",
    "param_grid= dict(alpha= alpha)\n",
    "\n",
    "grid= GridSearchCV(linear_model.ElasticNet(), param_grid, scoring='neg_mean_absolute_error', cv=5)\n",
    "grid_result= grid.fit(x_train, y_train)\n",
    "\n",
    "print('ElasticNet')\n",
    "print('Best MAE: ', grid_result.best_score_)\n",
    "print('Best Params: ', grid_result.best_params_)"
   ]
  },
  {
   "cell_type": "code",
   "execution_count": 76,
   "metadata": {},
   "outputs": [
    {
     "name": "stdout",
     "output_type": "stream",
     "text": [
      "R2 TRAIN: 0.7716634307028365\n",
      "R2 TEST: -1.6117552093606977\n"
     ]
    }
   ],
   "source": [
    "# ElasticNet had best score so we will now see if it addresses the overfitting\n",
    "model= linear_model.ElasticNet(alpha= 0.1)\n",
    "model.fit(x_train, y_train)\n",
    "r2_train= model.score(x_train, y_train)\n",
    "r2_test= model.score(x_test, y_test)\n",
    "print('R2 TRAIN: {}'.format(r2_train))\n",
    "print('R2 TEST: {}'.format(r2_test))"
   ]
  },
  {
   "cell_type": "code",
   "execution_count": 77,
   "metadata": {},
   "outputs": [
    {
     "name": "stdout",
     "output_type": "stream",
     "text": [
      "MAE TRAIN: 361.5318778829224\n",
      "MAE TEST: 1489.2278123223628\n"
     ]
    }
   ],
   "source": [
    "y_pred_train= model.predict(x_train)\n",
    "y_pred_test= model.predict(x_test)\n",
    "mae_train= mean_absolute_error(y_train, y_pred_train)\n",
    "mae_test= mean_absolute_error(y_test, y_pred_test)\n",
    "print('MAE TRAIN: {}'.format(mae_train))\n",
    "print('MAE TEST: {}'.format(mae_test))\n",
    "\n",
    "# ElasticNet does not appear to address the overfitting problem and our model is still performing poorly "
   ]
  },
  {
   "cell_type": "markdown",
   "metadata": {},
   "source": [
    "### Introducing Lagging Variables"
   ]
  },
  {
   "cell_type": "code",
   "execution_count": 78,
   "metadata": {},
   "outputs": [],
   "source": [
    "lagged_df= ca.copy()\n",
    "\n",
    "#Add a 14 and 7 day lag for target variable\n",
    "# Add a 14 day lag for num new cases\n",
    "lagged_df['Num_New_Cases_14_avg']= lagged_df['Num New Cases'].rolling(14).mean()\n",
    "\n",
    "# Add a 7 day lag for num new cases\n",
    "lagged_df['Num_New_Cases_7_avg']= lagged_df['Num New Cases'].rolling(7).mean()\n",
    "\n",
    "\n",
    "# Add 14 and 7 day rolling average for mobility markers\n",
    "# Create a list of all the mobiity markers\n",
    "mobility_markers= []\n",
    "for x in lagged_df.columns[2:11]:\n",
    "    mobility_markers.append(x)\n",
    "\n",
    "# Create a 14 days running average for all mobility markers\n",
    "for marker in mobility_markers:\n",
    "    lagged_df['{}_14_avg'.format(marker)]= lagged_df[marker].rolling(14).mean()\n",
    "\n",
    "# Create a 7 day running average for all mobility markers\n",
    "for marker in mobility_markers:\n",
    "    lagged_df['{}_7_avg'.format(marker)]= lagged_df[marker].rolling(7).mean()"
   ]
  },
  {
   "cell_type": "code",
   "execution_count": 79,
   "metadata": {},
   "outputs": [
    {
     "data": {
      "text/html": [
       "<div>\n",
       "<style scoped>\n",
       "    .dataframe tbody tr th:only-of-type {\n",
       "        vertical-align: middle;\n",
       "    }\n",
       "\n",
       "    .dataframe tbody tr th {\n",
       "        vertical-align: top;\n",
       "    }\n",
       "\n",
       "    .dataframe thead th {\n",
       "        text-align: right;\n",
       "    }\n",
       "</style>\n",
       "<table border=\"1\" class=\"dataframe\">\n",
       "  <thead>\n",
       "    <tr style=\"text-align: right;\">\n",
       "      <th></th>\n",
       "      <th>state</th>\n",
       "      <th>date</th>\n",
       "      <th>retail_and_recreation</th>\n",
       "      <th>grocery_and_pharmacy</th>\n",
       "      <th>parks</th>\n",
       "      <th>transit</th>\n",
       "      <th>workplace</th>\n",
       "      <th>residential</th>\n",
       "      <th>driving gps hits</th>\n",
       "      <th>transit gps hits</th>\n",
       "      <th>...</th>\n",
       "      <th>walking gps hits_14_avg</th>\n",
       "      <th>retail_and_recreation_7_avg</th>\n",
       "      <th>grocery_and_pharmacy_7_avg</th>\n",
       "      <th>parks_7_avg</th>\n",
       "      <th>transit_7_avg</th>\n",
       "      <th>workplace_7_avg</th>\n",
       "      <th>residential_7_avg</th>\n",
       "      <th>driving gps hits_7_avg</th>\n",
       "      <th>transit gps hits_7_avg</th>\n",
       "      <th>walking gps hits_7_avg</th>\n",
       "    </tr>\n",
       "  </thead>\n",
       "  <tbody>\n",
       "    <tr>\n",
       "      <th>450</th>\n",
       "      <td>California</td>\n",
       "      <td>2020-02-15</td>\n",
       "      <td>1.0</td>\n",
       "      <td>1.0</td>\n",
       "      <td>19.0</td>\n",
       "      <td>1.0</td>\n",
       "      <td>-1.0</td>\n",
       "      <td>0.0</td>\n",
       "      <td>149.625000</td>\n",
       "      <td>98.747059</td>\n",
       "      <td>...</td>\n",
       "      <td>NaN</td>\n",
       "      <td>NaN</td>\n",
       "      <td>NaN</td>\n",
       "      <td>NaN</td>\n",
       "      <td>NaN</td>\n",
       "      <td>NaN</td>\n",
       "      <td>NaN</td>\n",
       "      <td>NaN</td>\n",
       "      <td>NaN</td>\n",
       "      <td>NaN</td>\n",
       "    </tr>\n",
       "    <tr>\n",
       "      <th>451</th>\n",
       "      <td>California</td>\n",
       "      <td>2020-02-16</td>\n",
       "      <td>5.0</td>\n",
       "      <td>0.0</td>\n",
       "      <td>31.0</td>\n",
       "      <td>1.0</td>\n",
       "      <td>-1.0</td>\n",
       "      <td>-1.0</td>\n",
       "      <td>128.067973</td>\n",
       "      <td>85.542941</td>\n",
       "      <td>...</td>\n",
       "      <td>NaN</td>\n",
       "      <td>NaN</td>\n",
       "      <td>NaN</td>\n",
       "      <td>NaN</td>\n",
       "      <td>NaN</td>\n",
       "      <td>NaN</td>\n",
       "      <td>NaN</td>\n",
       "      <td>NaN</td>\n",
       "      <td>NaN</td>\n",
       "      <td>NaN</td>\n",
       "    </tr>\n",
       "    <tr>\n",
       "      <th>452</th>\n",
       "      <td>California</td>\n",
       "      <td>2020-02-17</td>\n",
       "      <td>9.0</td>\n",
       "      <td>1.0</td>\n",
       "      <td>44.0</td>\n",
       "      <td>-12.0</td>\n",
       "      <td>-38.0</td>\n",
       "      <td>8.0</td>\n",
       "      <td>131.830676</td>\n",
       "      <td>98.512353</td>\n",
       "      <td>...</td>\n",
       "      <td>NaN</td>\n",
       "      <td>NaN</td>\n",
       "      <td>NaN</td>\n",
       "      <td>NaN</td>\n",
       "      <td>NaN</td>\n",
       "      <td>NaN</td>\n",
       "      <td>NaN</td>\n",
       "      <td>NaN</td>\n",
       "      <td>NaN</td>\n",
       "      <td>NaN</td>\n",
       "    </tr>\n",
       "    <tr>\n",
       "      <th>453</th>\n",
       "      <td>California</td>\n",
       "      <td>2020-02-18</td>\n",
       "      <td>0.0</td>\n",
       "      <td>0.0</td>\n",
       "      <td>16.0</td>\n",
       "      <td>3.0</td>\n",
       "      <td>0.0</td>\n",
       "      <td>0.0</td>\n",
       "      <td>114.652568</td>\n",
       "      <td>110.847059</td>\n",
       "      <td>...</td>\n",
       "      <td>NaN</td>\n",
       "      <td>NaN</td>\n",
       "      <td>NaN</td>\n",
       "      <td>NaN</td>\n",
       "      <td>NaN</td>\n",
       "      <td>NaN</td>\n",
       "      <td>NaN</td>\n",
       "      <td>NaN</td>\n",
       "      <td>NaN</td>\n",
       "      <td>NaN</td>\n",
       "    </tr>\n",
       "    <tr>\n",
       "      <th>454</th>\n",
       "      <td>California</td>\n",
       "      <td>2020-02-19</td>\n",
       "      <td>0.0</td>\n",
       "      <td>0.0</td>\n",
       "      <td>13.0</td>\n",
       "      <td>1.0</td>\n",
       "      <td>0.0</td>\n",
       "      <td>0.0</td>\n",
       "      <td>115.025946</td>\n",
       "      <td>110.649412</td>\n",
       "      <td>...</td>\n",
       "      <td>NaN</td>\n",
       "      <td>NaN</td>\n",
       "      <td>NaN</td>\n",
       "      <td>NaN</td>\n",
       "      <td>NaN</td>\n",
       "      <td>NaN</td>\n",
       "      <td>NaN</td>\n",
       "      <td>NaN</td>\n",
       "      <td>NaN</td>\n",
       "      <td>NaN</td>\n",
       "    </tr>\n",
       "    <tr>\n",
       "      <th>455</th>\n",
       "      <td>California</td>\n",
       "      <td>2020-02-20</td>\n",
       "      <td>2.0</td>\n",
       "      <td>1.0</td>\n",
       "      <td>12.0</td>\n",
       "      <td>1.0</td>\n",
       "      <td>0.0</td>\n",
       "      <td>0.0</td>\n",
       "      <td>120.621216</td>\n",
       "      <td>108.973529</td>\n",
       "      <td>...</td>\n",
       "      <td>NaN</td>\n",
       "      <td>NaN</td>\n",
       "      <td>NaN</td>\n",
       "      <td>NaN</td>\n",
       "      <td>NaN</td>\n",
       "      <td>NaN</td>\n",
       "      <td>NaN</td>\n",
       "      <td>NaN</td>\n",
       "      <td>NaN</td>\n",
       "      <td>NaN</td>\n",
       "    </tr>\n",
       "    <tr>\n",
       "      <th>456</th>\n",
       "      <td>California</td>\n",
       "      <td>2020-02-21</td>\n",
       "      <td>1.0</td>\n",
       "      <td>0.0</td>\n",
       "      <td>8.0</td>\n",
       "      <td>0.0</td>\n",
       "      <td>1.0</td>\n",
       "      <td>0.0</td>\n",
       "      <td>143.535541</td>\n",
       "      <td>117.529412</td>\n",
       "      <td>...</td>\n",
       "      <td>NaN</td>\n",
       "      <td>2.571429</td>\n",
       "      <td>0.428571</td>\n",
       "      <td>20.428571</td>\n",
       "      <td>-0.714286</td>\n",
       "      <td>-5.571429</td>\n",
       "      <td>1.000000</td>\n",
       "      <td>129.051274</td>\n",
       "      <td>104.400252</td>\n",
       "      <td>126.339864</td>\n",
       "    </tr>\n",
       "    <tr>\n",
       "      <th>457</th>\n",
       "      <td>California</td>\n",
       "      <td>2020-02-22</td>\n",
       "      <td>0.0</td>\n",
       "      <td>0.0</td>\n",
       "      <td>-3.0</td>\n",
       "      <td>-4.0</td>\n",
       "      <td>1.0</td>\n",
       "      <td>1.0</td>\n",
       "      <td>142.735676</td>\n",
       "      <td>97.484118</td>\n",
       "      <td>...</td>\n",
       "      <td>NaN</td>\n",
       "      <td>2.428571</td>\n",
       "      <td>0.285714</td>\n",
       "      <td>17.285714</td>\n",
       "      <td>-1.428571</td>\n",
       "      <td>-5.285714</td>\n",
       "      <td>1.142857</td>\n",
       "      <td>128.067085</td>\n",
       "      <td>104.219832</td>\n",
       "      <td>125.218639</td>\n",
       "    </tr>\n",
       "    <tr>\n",
       "      <th>458</th>\n",
       "      <td>California</td>\n",
       "      <td>2020-02-23</td>\n",
       "      <td>4.0</td>\n",
       "      <td>1.0</td>\n",
       "      <td>16.0</td>\n",
       "      <td>3.0</td>\n",
       "      <td>2.0</td>\n",
       "      <td>0.0</td>\n",
       "      <td>119.011486</td>\n",
       "      <td>88.245294</td>\n",
       "      <td>...</td>\n",
       "      <td>NaN</td>\n",
       "      <td>2.285714</td>\n",
       "      <td>0.428571</td>\n",
       "      <td>15.142857</td>\n",
       "      <td>-1.142857</td>\n",
       "      <td>-4.857143</td>\n",
       "      <td>1.285714</td>\n",
       "      <td>126.773301</td>\n",
       "      <td>104.605882</td>\n",
       "      <td>123.118707</td>\n",
       "    </tr>\n",
       "    <tr>\n",
       "      <th>459</th>\n",
       "      <td>California</td>\n",
       "      <td>2020-02-24</td>\n",
       "      <td>2.0</td>\n",
       "      <td>0.0</td>\n",
       "      <td>12.0</td>\n",
       "      <td>1.0</td>\n",
       "      <td>4.0</td>\n",
       "      <td>0.0</td>\n",
       "      <td>111.661351</td>\n",
       "      <td>109.474706</td>\n",
       "      <td>...</td>\n",
       "      <td>NaN</td>\n",
       "      <td>1.285714</td>\n",
       "      <td>0.285714</td>\n",
       "      <td>10.571429</td>\n",
       "      <td>0.714286</td>\n",
       "      <td>1.142857</td>\n",
       "      <td>0.142857</td>\n",
       "      <td>123.891969</td>\n",
       "      <td>106.171933</td>\n",
       "      <td>121.521633</td>\n",
       "    </tr>\n",
       "    <tr>\n",
       "      <th>460</th>\n",
       "      <td>California</td>\n",
       "      <td>2020-02-25</td>\n",
       "      <td>3.0</td>\n",
       "      <td>1.0</td>\n",
       "      <td>20.0</td>\n",
       "      <td>3.0</td>\n",
       "      <td>3.0</td>\n",
       "      <td>-1.0</td>\n",
       "      <td>110.614730</td>\n",
       "      <td>108.534118</td>\n",
       "      <td>...</td>\n",
       "      <td>NaN</td>\n",
       "      <td>1.714286</td>\n",
       "      <td>0.428571</td>\n",
       "      <td>11.142857</td>\n",
       "      <td>0.714286</td>\n",
       "      <td>1.571429</td>\n",
       "      <td>0.000000</td>\n",
       "      <td>123.315135</td>\n",
       "      <td>105.841513</td>\n",
       "      <td>121.584966</td>\n",
       "    </tr>\n",
       "    <tr>\n",
       "      <th>461</th>\n",
       "      <td>California</td>\n",
       "      <td>2020-02-26</td>\n",
       "      <td>5.0</td>\n",
       "      <td>3.0</td>\n",
       "      <td>16.0</td>\n",
       "      <td>3.0</td>\n",
       "      <td>2.0</td>\n",
       "      <td>-1.0</td>\n",
       "      <td>111.995946</td>\n",
       "      <td>108.804118</td>\n",
       "      <td>...</td>\n",
       "      <td>NaN</td>\n",
       "      <td>2.428571</td>\n",
       "      <td>0.857143</td>\n",
       "      <td>11.571429</td>\n",
       "      <td>1.000000</td>\n",
       "      <td>1.857143</td>\n",
       "      <td>-0.142857</td>\n",
       "      <td>122.882278</td>\n",
       "      <td>105.577899</td>\n",
       "      <td>121.514830</td>\n",
       "    </tr>\n",
       "    <tr>\n",
       "      <th>462</th>\n",
       "      <td>California</td>\n",
       "      <td>2020-02-27</td>\n",
       "      <td>5.0</td>\n",
       "      <td>3.0</td>\n",
       "      <td>14.0</td>\n",
       "      <td>3.0</td>\n",
       "      <td>2.0</td>\n",
       "      <td>-1.0</td>\n",
       "      <td>118.047432</td>\n",
       "      <td>106.802941</td>\n",
       "      <td>...</td>\n",
       "      <td>NaN</td>\n",
       "      <td>2.857143</td>\n",
       "      <td>1.142857</td>\n",
       "      <td>11.857143</td>\n",
       "      <td>1.285714</td>\n",
       "      <td>2.142857</td>\n",
       "      <td>-0.285714</td>\n",
       "      <td>122.514595</td>\n",
       "      <td>105.267815</td>\n",
       "      <td>121.284286</td>\n",
       "    </tr>\n",
       "    <tr>\n",
       "      <th>463</th>\n",
       "      <td>California</td>\n",
       "      <td>2020-02-28</td>\n",
       "      <td>4.0</td>\n",
       "      <td>4.0</td>\n",
       "      <td>10.0</td>\n",
       "      <td>2.0</td>\n",
       "      <td>3.0</td>\n",
       "      <td>-1.0</td>\n",
       "      <td>141.643649</td>\n",
       "      <td>111.790588</td>\n",
       "      <td>...</td>\n",
       "      <td>123.602653</td>\n",
       "      <td>3.285714</td>\n",
       "      <td>1.714286</td>\n",
       "      <td>12.142857</td>\n",
       "      <td>1.571429</td>\n",
       "      <td>2.428571</td>\n",
       "      <td>-0.428571</td>\n",
       "      <td>122.244324</td>\n",
       "      <td>104.447983</td>\n",
       "      <td>120.865442</td>\n",
       "    </tr>\n",
       "    <tr>\n",
       "      <th>464</th>\n",
       "      <td>California</td>\n",
       "      <td>2020-02-29</td>\n",
       "      <td>4.0</td>\n",
       "      <td>4.0</td>\n",
       "      <td>15.0</td>\n",
       "      <td>1.0</td>\n",
       "      <td>2.0</td>\n",
       "      <td>-1.0</td>\n",
       "      <td>139.575946</td>\n",
       "      <td>98.255882</td>\n",
       "      <td>...</td>\n",
       "      <td>123.227041</td>\n",
       "      <td>3.857143</td>\n",
       "      <td>2.285714</td>\n",
       "      <td>14.714286</td>\n",
       "      <td>2.285714</td>\n",
       "      <td>2.571429</td>\n",
       "      <td>-0.714286</td>\n",
       "      <td>121.792934</td>\n",
       "      <td>104.558235</td>\n",
       "      <td>121.235442</td>\n",
       "    </tr>\n",
       "    <tr>\n",
       "      <th>465</th>\n",
       "      <td>California</td>\n",
       "      <td>2020-03-01</td>\n",
       "      <td>5.0</td>\n",
       "      <td>3.0</td>\n",
       "      <td>-4.0</td>\n",
       "      <td>-1.0</td>\n",
       "      <td>1.0</td>\n",
       "      <td>0.0</td>\n",
       "      <td>114.201757</td>\n",
       "      <td>80.201765</td>\n",
       "      <td>...</td>\n",
       "      <td>121.498061</td>\n",
       "      <td>4.000000</td>\n",
       "      <td>2.571429</td>\n",
       "      <td>11.857143</td>\n",
       "      <td>1.714286</td>\n",
       "      <td>2.428571</td>\n",
       "      <td>-0.714286</td>\n",
       "      <td>121.105830</td>\n",
       "      <td>103.409160</td>\n",
       "      <td>119.877415</td>\n",
       "    </tr>\n",
       "  </tbody>\n",
       "</table>\n",
       "<p>16 rows × 35 columns</p>\n",
       "</div>"
      ],
      "text/plain": [
       "          state        date  retail_and_recreation  grocery_and_pharmacy  \\\n",
       "450  California  2020-02-15                    1.0                   1.0   \n",
       "451  California  2020-02-16                    5.0                   0.0   \n",
       "452  California  2020-02-17                    9.0                   1.0   \n",
       "453  California  2020-02-18                    0.0                   0.0   \n",
       "454  California  2020-02-19                    0.0                   0.0   \n",
       "455  California  2020-02-20                    2.0                   1.0   \n",
       "456  California  2020-02-21                    1.0                   0.0   \n",
       "457  California  2020-02-22                    0.0                   0.0   \n",
       "458  California  2020-02-23                    4.0                   1.0   \n",
       "459  California  2020-02-24                    2.0                   0.0   \n",
       "460  California  2020-02-25                    3.0                   1.0   \n",
       "461  California  2020-02-26                    5.0                   3.0   \n",
       "462  California  2020-02-27                    5.0                   3.0   \n",
       "463  California  2020-02-28                    4.0                   4.0   \n",
       "464  California  2020-02-29                    4.0                   4.0   \n",
       "465  California  2020-03-01                    5.0                   3.0   \n",
       "\n",
       "     parks  transit  workplace  residential  driving gps hits  \\\n",
       "450   19.0      1.0       -1.0          0.0        149.625000   \n",
       "451   31.0      1.0       -1.0         -1.0        128.067973   \n",
       "452   44.0    -12.0      -38.0          8.0        131.830676   \n",
       "453   16.0      3.0        0.0          0.0        114.652568   \n",
       "454   13.0      1.0        0.0          0.0        115.025946   \n",
       "455   12.0      1.0        0.0          0.0        120.621216   \n",
       "456    8.0      0.0        1.0          0.0        143.535541   \n",
       "457   -3.0     -4.0        1.0          1.0        142.735676   \n",
       "458   16.0      3.0        2.0          0.0        119.011486   \n",
       "459   12.0      1.0        4.0          0.0        111.661351   \n",
       "460   20.0      3.0        3.0         -1.0        110.614730   \n",
       "461   16.0      3.0        2.0         -1.0        111.995946   \n",
       "462   14.0      3.0        2.0         -1.0        118.047432   \n",
       "463   10.0      2.0        3.0         -1.0        141.643649   \n",
       "464   15.0      1.0        2.0         -1.0        139.575946   \n",
       "465   -4.0     -1.0        1.0          0.0        114.201757   \n",
       "\n",
       "     transit gps hits  ...  walking gps hits_14_avg  \\\n",
       "450         98.747059  ...                      NaN   \n",
       "451         85.542941  ...                      NaN   \n",
       "452         98.512353  ...                      NaN   \n",
       "453        110.847059  ...                      NaN   \n",
       "454        110.649412  ...                      NaN   \n",
       "455        108.973529  ...                      NaN   \n",
       "456        117.529412  ...                      NaN   \n",
       "457         97.484118  ...                      NaN   \n",
       "458         88.245294  ...                      NaN   \n",
       "459        109.474706  ...                      NaN   \n",
       "460        108.534118  ...                      NaN   \n",
       "461        108.804118  ...                      NaN   \n",
       "462        106.802941  ...                      NaN   \n",
       "463        111.790588  ...               123.602653   \n",
       "464         98.255882  ...               123.227041   \n",
       "465         80.201765  ...               121.498061   \n",
       "\n",
       "     retail_and_recreation_7_avg  grocery_and_pharmacy_7_avg  parks_7_avg  \\\n",
       "450                          NaN                         NaN          NaN   \n",
       "451                          NaN                         NaN          NaN   \n",
       "452                          NaN                         NaN          NaN   \n",
       "453                          NaN                         NaN          NaN   \n",
       "454                          NaN                         NaN          NaN   \n",
       "455                          NaN                         NaN          NaN   \n",
       "456                     2.571429                    0.428571    20.428571   \n",
       "457                     2.428571                    0.285714    17.285714   \n",
       "458                     2.285714                    0.428571    15.142857   \n",
       "459                     1.285714                    0.285714    10.571429   \n",
       "460                     1.714286                    0.428571    11.142857   \n",
       "461                     2.428571                    0.857143    11.571429   \n",
       "462                     2.857143                    1.142857    11.857143   \n",
       "463                     3.285714                    1.714286    12.142857   \n",
       "464                     3.857143                    2.285714    14.714286   \n",
       "465                     4.000000                    2.571429    11.857143   \n",
       "\n",
       "     transit_7_avg  workplace_7_avg  residential_7_avg  \\\n",
       "450            NaN              NaN                NaN   \n",
       "451            NaN              NaN                NaN   \n",
       "452            NaN              NaN                NaN   \n",
       "453            NaN              NaN                NaN   \n",
       "454            NaN              NaN                NaN   \n",
       "455            NaN              NaN                NaN   \n",
       "456      -0.714286        -5.571429           1.000000   \n",
       "457      -1.428571        -5.285714           1.142857   \n",
       "458      -1.142857        -4.857143           1.285714   \n",
       "459       0.714286         1.142857           0.142857   \n",
       "460       0.714286         1.571429           0.000000   \n",
       "461       1.000000         1.857143          -0.142857   \n",
       "462       1.285714         2.142857          -0.285714   \n",
       "463       1.571429         2.428571          -0.428571   \n",
       "464       2.285714         2.571429          -0.714286   \n",
       "465       1.714286         2.428571          -0.714286   \n",
       "\n",
       "     driving gps hits_7_avg  transit gps hits_7_avg  walking gps hits_7_avg  \n",
       "450                     NaN                     NaN                     NaN  \n",
       "451                     NaN                     NaN                     NaN  \n",
       "452                     NaN                     NaN                     NaN  \n",
       "453                     NaN                     NaN                     NaN  \n",
       "454                     NaN                     NaN                     NaN  \n",
       "455                     NaN                     NaN                     NaN  \n",
       "456              129.051274              104.400252              126.339864  \n",
       "457              128.067085              104.219832              125.218639  \n",
       "458              126.773301              104.605882              123.118707  \n",
       "459              123.891969              106.171933              121.521633  \n",
       "460              123.315135              105.841513              121.584966  \n",
       "461              122.882278              105.577899              121.514830  \n",
       "462              122.514595              105.267815              121.284286  \n",
       "463              122.244324              104.447983              120.865442  \n",
       "464              121.792934              104.558235              121.235442  \n",
       "465              121.105830              103.409160              119.877415  \n",
       "\n",
       "[16 rows x 35 columns]"
      ]
     },
     "execution_count": 79,
     "metadata": {},
     "output_type": "execute_result"
    }
   ],
   "source": [
    "lagged_df.head(16)"
   ]
  },
  {
   "cell_type": "code",
   "execution_count": 80,
   "metadata": {},
   "outputs": [
    {
     "data": {
      "text/html": [
       "<div>\n",
       "<style scoped>\n",
       "    .dataframe tbody tr th:only-of-type {\n",
       "        vertical-align: middle;\n",
       "    }\n",
       "\n",
       "    .dataframe tbody tr th {\n",
       "        vertical-align: top;\n",
       "    }\n",
       "\n",
       "    .dataframe thead th {\n",
       "        text-align: right;\n",
       "    }\n",
       "</style>\n",
       "<table border=\"1\" class=\"dataframe\">\n",
       "  <thead>\n",
       "    <tr style=\"text-align: right;\">\n",
       "      <th></th>\n",
       "      <th>state</th>\n",
       "      <th>date</th>\n",
       "      <th>retail_and_recreation</th>\n",
       "      <th>grocery_and_pharmacy</th>\n",
       "      <th>parks</th>\n",
       "      <th>transit</th>\n",
       "      <th>workplace</th>\n",
       "      <th>residential</th>\n",
       "      <th>driving gps hits</th>\n",
       "      <th>transit gps hits</th>\n",
       "      <th>...</th>\n",
       "      <th>walking gps hits_14_avg</th>\n",
       "      <th>retail_and_recreation_7_avg</th>\n",
       "      <th>grocery_and_pharmacy_7_avg</th>\n",
       "      <th>parks_7_avg</th>\n",
       "      <th>transit_7_avg</th>\n",
       "      <th>workplace_7_avg</th>\n",
       "      <th>residential_7_avg</th>\n",
       "      <th>driving gps hits_7_avg</th>\n",
       "      <th>transit gps hits_7_avg</th>\n",
       "      <th>walking gps hits_7_avg</th>\n",
       "    </tr>\n",
       "  </thead>\n",
       "  <tbody>\n",
       "    <tr>\n",
       "      <th>577</th>\n",
       "      <td>California</td>\n",
       "      <td>2020-06-23</td>\n",
       "      <td>-29.0</td>\n",
       "      <td>-7.0</td>\n",
       "      <td>14.0</td>\n",
       "      <td>-38.0</td>\n",
       "      <td>-42.0</td>\n",
       "      <td>14.0</td>\n",
       "      <td>142.186081</td>\n",
       "      <td>48.518235</td>\n",
       "      <td>...</td>\n",
       "      <td>138.222857</td>\n",
       "      <td>-29.714286</td>\n",
       "      <td>-5.142857</td>\n",
       "      <td>9.714286</td>\n",
       "      <td>-37.000000</td>\n",
       "      <td>-33.428571</td>\n",
       "      <td>11.285714</td>\n",
       "      <td>149.188050</td>\n",
       "      <td>47.389916</td>\n",
       "      <td>140.566871</td>\n",
       "    </tr>\n",
       "    <tr>\n",
       "      <th>578</th>\n",
       "      <td>California</td>\n",
       "      <td>2020-06-24</td>\n",
       "      <td>-29.0</td>\n",
       "      <td>-8.0</td>\n",
       "      <td>9.0</td>\n",
       "      <td>-39.0</td>\n",
       "      <td>-41.0</td>\n",
       "      <td>14.0</td>\n",
       "      <td>146.346757</td>\n",
       "      <td>51.071176</td>\n",
       "      <td>...</td>\n",
       "      <td>139.140170</td>\n",
       "      <td>-29.714286</td>\n",
       "      <td>-5.428571</td>\n",
       "      <td>9.285714</td>\n",
       "      <td>-37.142857</td>\n",
       "      <td>-33.428571</td>\n",
       "      <td>11.285714</td>\n",
       "      <td>150.375695</td>\n",
       "      <td>47.750840</td>\n",
       "      <td>141.536190</td>\n",
       "    </tr>\n",
       "    <tr>\n",
       "      <th>579</th>\n",
       "      <td>California</td>\n",
       "      <td>2020-06-25</td>\n",
       "      <td>-29.0</td>\n",
       "      <td>-7.0</td>\n",
       "      <td>7.0</td>\n",
       "      <td>-39.0</td>\n",
       "      <td>-41.0</td>\n",
       "      <td>14.0</td>\n",
       "      <td>153.047703</td>\n",
       "      <td>51.350588</td>\n",
       "      <td>...</td>\n",
       "      <td>140.506088</td>\n",
       "      <td>-29.857143</td>\n",
       "      <td>-5.714286</td>\n",
       "      <td>9.000000</td>\n",
       "      <td>-37.142857</td>\n",
       "      <td>-33.428571</td>\n",
       "      <td>11.285714</td>\n",
       "      <td>151.613436</td>\n",
       "      <td>47.960924</td>\n",
       "      <td>143.035578</td>\n",
       "    </tr>\n",
       "    <tr>\n",
       "      <th>580</th>\n",
       "      <td>California</td>\n",
       "      <td>2020-06-26</td>\n",
       "      <td>-31.0</td>\n",
       "      <td>-7.0</td>\n",
       "      <td>7.0</td>\n",
       "      <td>-39.0</td>\n",
       "      <td>-40.0</td>\n",
       "      <td>14.0</td>\n",
       "      <td>177.028378</td>\n",
       "      <td>53.797059</td>\n",
       "      <td>...</td>\n",
       "      <td>141.782585</td>\n",
       "      <td>-30.000000</td>\n",
       "      <td>-6.142857</td>\n",
       "      <td>8.714286</td>\n",
       "      <td>-37.285714</td>\n",
       "      <td>-33.428571</td>\n",
       "      <td>11.571429</td>\n",
       "      <td>152.733687</td>\n",
       "      <td>48.398487</td>\n",
       "      <td>143.923333</td>\n",
       "    </tr>\n",
       "    <tr>\n",
       "      <th>581</th>\n",
       "      <td>California</td>\n",
       "      <td>2020-06-27</td>\n",
       "      <td>-33.0</td>\n",
       "      <td>-6.0</td>\n",
       "      <td>6.0</td>\n",
       "      <td>-32.0</td>\n",
       "      <td>-16.0</td>\n",
       "      <td>7.0</td>\n",
       "      <td>176.721892</td>\n",
       "      <td>49.085882</td>\n",
       "      <td>...</td>\n",
       "      <td>142.681293</td>\n",
       "      <td>-30.285714</td>\n",
       "      <td>-7.142857</td>\n",
       "      <td>8.714286</td>\n",
       "      <td>-37.285714</td>\n",
       "      <td>-33.714286</td>\n",
       "      <td>11.571429</td>\n",
       "      <td>154.075251</td>\n",
       "      <td>48.893866</td>\n",
       "      <td>145.168299</td>\n",
       "    </tr>\n",
       "  </tbody>\n",
       "</table>\n",
       "<p>5 rows × 35 columns</p>\n",
       "</div>"
      ],
      "text/plain": [
       "          state        date  retail_and_recreation  grocery_and_pharmacy  \\\n",
       "577  California  2020-06-23                  -29.0                  -7.0   \n",
       "578  California  2020-06-24                  -29.0                  -8.0   \n",
       "579  California  2020-06-25                  -29.0                  -7.0   \n",
       "580  California  2020-06-26                  -31.0                  -7.0   \n",
       "581  California  2020-06-27                  -33.0                  -6.0   \n",
       "\n",
       "     parks  transit  workplace  residential  driving gps hits  \\\n",
       "577   14.0    -38.0      -42.0         14.0        142.186081   \n",
       "578    9.0    -39.0      -41.0         14.0        146.346757   \n",
       "579    7.0    -39.0      -41.0         14.0        153.047703   \n",
       "580    7.0    -39.0      -40.0         14.0        177.028378   \n",
       "581    6.0    -32.0      -16.0          7.0        176.721892   \n",
       "\n",
       "     transit gps hits  ...  walking gps hits_14_avg  \\\n",
       "577         48.518235  ...               138.222857   \n",
       "578         51.071176  ...               139.140170   \n",
       "579         51.350588  ...               140.506088   \n",
       "580         53.797059  ...               141.782585   \n",
       "581         49.085882  ...               142.681293   \n",
       "\n",
       "     retail_and_recreation_7_avg  grocery_and_pharmacy_7_avg  parks_7_avg  \\\n",
       "577                   -29.714286                   -5.142857     9.714286   \n",
       "578                   -29.714286                   -5.428571     9.285714   \n",
       "579                   -29.857143                   -5.714286     9.000000   \n",
       "580                   -30.000000                   -6.142857     8.714286   \n",
       "581                   -30.285714                   -7.142857     8.714286   \n",
       "\n",
       "     transit_7_avg  workplace_7_avg  residential_7_avg  \\\n",
       "577     -37.000000       -33.428571          11.285714   \n",
       "578     -37.142857       -33.428571          11.285714   \n",
       "579     -37.142857       -33.428571          11.285714   \n",
       "580     -37.285714       -33.428571          11.571429   \n",
       "581     -37.285714       -33.714286          11.571429   \n",
       "\n",
       "     driving gps hits_7_avg  transit gps hits_7_avg  walking gps hits_7_avg  \n",
       "577              149.188050               47.389916              140.566871  \n",
       "578              150.375695               47.750840              141.536190  \n",
       "579              151.613436               47.960924              143.035578  \n",
       "580              152.733687               48.398487              143.923333  \n",
       "581              154.075251               48.893866              145.168299  \n",
       "\n",
       "[5 rows x 35 columns]"
      ]
     },
     "execution_count": 80,
     "metadata": {},
     "output_type": "execute_result"
    }
   ],
   "source": [
    "lagged_df.tail()"
   ]
  },
  {
   "cell_type": "code",
   "execution_count": 81,
   "metadata": {},
   "outputs": [
    {
     "data": {
      "text/plain": [
       "Index(['state', 'date', 'retail_and_recreation', 'grocery_and_pharmacy',\n",
       "       'parks', 'transit', 'workplace', 'residential', 'driving gps hits',\n",
       "       'transit gps hits', 'walking gps hits', 'cases', 'deaths',\n",
       "       'Growth Rate', 'Num New Cases', 'Num_New_Cases_14_avg',\n",
       "       'Num_New_Cases_7_avg', 'retail_and_recreation_14_avg',\n",
       "       'grocery_and_pharmacy_14_avg', 'parks_14_avg', 'transit_14_avg',\n",
       "       'workplace_14_avg', 'residential_14_avg', 'driving gps hits_14_avg',\n",
       "       'transit gps hits_14_avg', 'walking gps hits_14_avg',\n",
       "       'retail_and_recreation_7_avg', 'grocery_and_pharmacy_7_avg',\n",
       "       'parks_7_avg', 'transit_7_avg', 'workplace_7_avg', 'residential_7_avg',\n",
       "       'driving gps hits_7_avg', 'transit gps hits_7_avg',\n",
       "       'walking gps hits_7_avg'],\n",
       "      dtype='object')"
      ]
     },
     "execution_count": 81,
     "metadata": {},
     "output_type": "execute_result"
    }
   ],
   "source": [
    "lagged_df.columns"
   ]
  },
  {
   "cell_type": "code",
   "execution_count": 82,
   "metadata": {},
   "outputs": [
    {
     "data": {
      "text/plain": [
       "119"
      ]
     },
     "execution_count": 82,
     "metadata": {},
     "output_type": "execute_result"
    }
   ],
   "source": [
    "lagged_df.dropna(inplace=True)\n",
    "len(lagged_df)"
   ]
  },
  {
   "cell_type": "code",
   "execution_count": 83,
   "metadata": {},
   "outputs": [
    {
     "name": "stdout",
     "output_type": "stream",
     "text": [
      "Our X variables will be ['retail_and_recreation_14_avg', 'grocery_and_pharmacy_14_avg', 'parks_14_avg', 'transit_14_avg', 'workplace_14_avg', 'residential_14_avg', 'driving gps hits_14_avg', 'transit gps hits_14_avg', 'walking gps hits_14_avg', 'retail_and_recreation_7_avg', 'grocery_and_pharmacy_7_avg', 'parks_7_avg', 'transit_7_avg', 'workplace_7_avg', 'residential_7_avg', 'driving gps hits_7_avg', 'transit gps hits_7_avg', 'walking gps hits_7_avg'].\n",
      "\n",
      "\n",
      "(105, 18)\n",
      "(105,)\n",
      "(14, 18)\n",
      "(14,)\n"
     ]
    }
   ],
   "source": [
    "# We will do a manual train and test split of the data. Because there are 132 days in the dataset I will use the first\n",
    "# 105 days for training and then use the last 14 days for testing \n",
    "lagged_df.dropna(inplace=True)\n",
    "X= lagged_df.iloc[:,-18:]\n",
    "y= lagged_df['Num New Cases']\n",
    "x_train= X[:105]\n",
    "x_test= X[105:]\n",
    "y_train= y[:105]\n",
    "y_test= y[105:]\n",
    "\n",
    "\n",
    "print('Our X variables will be {}.'.format(list(x_train.columns)))\n",
    "print('\\n')\n",
    "\n",
    "# scaling data\n",
    "scaler = StandardScaler()\n",
    "x_train = scaler.fit_transform(x_train)\n",
    "x_test = scaler.transform(x_test)\n",
    "\n",
    "print(x_train.shape)\n",
    "print(y_train.shape)\n",
    "print(x_test.shape)\n",
    "print(y_test.shape)"
   ]
  },
  {
   "cell_type": "code",
   "execution_count": 84,
   "metadata": {},
   "outputs": [
    {
     "name": "stdout",
     "output_type": "stream",
     "text": [
      "R2 TRAIN: 0.83863799134425\n",
      "R2 TEST: 0.29173524123304817\n"
     ]
    }
   ],
   "source": [
    "linear= linear_model.LinearRegression()\n",
    "linear.fit(x_train, y_train)\n",
    "r2_train= linear.score(x_train, y_train)\n",
    "r2_test= linear.score(x_test, y_test)\n",
    "print('R2 TRAIN: {}'.format(r2_train))\n",
    "print('R2 TEST: {}'.format(r2_test))"
   ]
  },
  {
   "cell_type": "code",
   "execution_count": 85,
   "metadata": {},
   "outputs": [
    {
     "name": "stdout",
     "output_type": "stream",
     "text": [
      "MAE TRAIN: 253.88047621938972\n",
      "MAE TEST: 685.041988054595\n"
     ]
    }
   ],
   "source": [
    "y_pred_train= linear.predict(x_train)\n",
    "y_pred_test= linear.predict(x_test)\n",
    "mae_train= mean_absolute_error(y_train, y_pred_train)\n",
    "mae_test= mean_absolute_error(y_test, y_pred_test)\n",
    "print('MAE TRAIN: {}'.format(mae_train))\n",
    "print('MAE TEST: {}'.format(mae_test))"
   ]
  },
  {
   "cell_type": "code",
   "execution_count": 86,
   "metadata": {},
   "outputs": [
    {
     "data": {
      "text/plain": [
       "Text(0.5, 1.0, 'Residual Plot')"
      ]
     },
     "execution_count": 86,
     "metadata": {},
     "output_type": "execute_result"
    },
    {
     "data": {
      "image/png": "[encoded data removed]",
      "text/plain": [
       "<Figure size 432x288 with 1 Axes>"
      ]
     },
     "metadata": {
      "needs_background": "light"
     },
     "output_type": "display_data"
    }
   ],
   "source": [
    "sns.residplot(y_pred_test, y_test, color=\"g\")\n",
    "plt.title('Residual Plot')"
   ]
  },
  {
   "cell_type": "markdown",
   "metadata": {},
   "source": [
    "We are seeing better results using the lagging variables but are still seeing a lot of overfitting"
   ]
  },
  {
   "cell_type": "markdown",
   "metadata": {},
   "source": [
    "### Lasso, Ridge, Elastic Net"
   ]
  },
  {
   "cell_type": "code",
   "execution_count": 87,
   "metadata": {},
   "outputs": [
    {
     "name": "stdout",
     "output_type": "stream",
     "text": [
      "Lasso Regression\n",
      "Best MAE:  -556.3468425401409\n",
      "Best Params:  {'alpha': 10}\n",
      "\n",
      "\n",
      "Ridge Regression\n",
      "Best MAE:  -522.0296442760753\n",
      "Best Params:  {'alpha': 1}\n",
      "\n",
      "\n",
      "ElasticNet\n",
      "Best MAE:  -513.5697134187496\n",
      "Best Params:  {'alpha': 0.1}\n"
     ]
    }
   ],
   "source": [
    "\n",
    "# Lasso\n",
    "alpha= [0.0001, 0.001, 0.01, 0.1, 1, 10, 100, 1000]\n",
    "param_grid= dict(alpha= alpha)\n",
    "\n",
    "grid= GridSearchCV(linear_model.Lasso(), param_grid, scoring='neg_mean_absolute_error', cv=5)\n",
    "grid_result= grid.fit(x_train, y_train)\n",
    "\n",
    "print('Lasso Regression')\n",
    "print('Best MAE: ', grid_result.best_score_)\n",
    "print('Best Params: ', grid_result.best_params_)\n",
    "print('\\n')\n",
    "\n",
    "alpha= [0.0001, 0.001, 0.01, 0.1, 1, 10, 100, 1000]\n",
    "param_grid= dict(alpha= alpha)\n",
    "\n",
    "# Ridge\n",
    "grid= GridSearchCV(linear_model.Ridge(), param_grid, scoring='neg_mean_absolute_error', cv=5)\n",
    "grid_result= grid.fit(x_train, y_train)\n",
    "\n",
    "print('Ridge Regression')\n",
    "print('Best MAE: ', grid_result.best_score_)\n",
    "print('Best Params: ', grid_result.best_params_)\n",
    "print('\\n')\n",
    "\n",
    "#ElasticNet\n",
    "alpha= [0.0001, 0.001, 0.01, 0.1, 1, 10, 100, 1000]\n",
    "param_grid= dict(alpha= alpha)\n",
    "\n",
    "grid= GridSearchCV(linear_model.ElasticNet(), param_grid, scoring='neg_mean_absolute_error', cv=5)\n",
    "grid_result= grid.fit(x_train, y_train)\n",
    "\n",
    "print('ElasticNet')\n",
    "print('Best MAE: ', grid_result.best_score_)\n",
    "print('Best Params: ', grid_result.best_params_)"
   ]
  },
  {
   "cell_type": "code",
   "execution_count": 88,
   "metadata": {},
   "outputs": [
    {
     "name": "stdout",
     "output_type": "stream",
     "text": [
      "R2 TRAIN: 0.8174585007120277\n",
      "R2 TEST: -1.1243404914844524\n",
      "MAE TRAIN: 256.1792995591677\n",
      "MAE TEST: 1349.9112731554562\n"
     ]
    }
   ],
   "source": [
    "# ElasticNet had best score so we will now see if it addresses the overfitting\n",
    "model= linear_model.ElasticNet(alpha= 0.1)\n",
    "model.fit(x_train, y_train)\n",
    "r2_train= model.score(x_train, y_train)\n",
    "r2_test= model.score(x_test, y_test)\n",
    "print('R2 TRAIN: {}'.format(r2_train))\n",
    "print('R2 TEST: {}'.format(r2_test))\n",
    "\n",
    "y_pred_train= model.predict(x_train)\n",
    "y_pred_test= model.predict(x_test)\n",
    "mae_train= mean_absolute_error(y_train, y_pred_train)\n",
    "mae_test= mean_absolute_error(y_test, y_pred_test)\n",
    "print('MAE TRAIN: {}'.format(mae_train))\n",
    "print('MAE TEST: {}'.format(mae_test))"
   ]
  },
  {
   "cell_type": "markdown",
   "metadata": {},
   "source": [
    "### Utilizing the lagging variables of the target cases"
   ]
  },
  {
   "cell_type": "code",
   "execution_count": 89,
   "metadata": {},
   "outputs": [
    {
     "name": "stdout",
     "output_type": "stream",
     "text": [
      "Our X variables will be ['Num_New_Cases_14_avg', 'Num_New_Cases_7_avg', 'retail_and_recreation_14_avg', 'grocery_and_pharmacy_14_avg', 'parks_14_avg', 'transit_14_avg', 'workplace_14_avg', 'residential_14_avg', 'driving gps hits_14_avg', 'transit gps hits_14_avg', 'walking gps hits_14_avg', 'retail_and_recreation_7_avg', 'grocery_and_pharmacy_7_avg', 'parks_7_avg', 'transit_7_avg', 'workplace_7_avg', 'residential_7_avg', 'driving gps hits_7_avg', 'transit gps hits_7_avg', 'walking gps hits_7_avg'].\n",
      "\n",
      "\n",
      "(105, 20)\n",
      "(105,)\n",
      "(14, 20)\n",
      "(14,)\n"
     ]
    }
   ],
   "source": [
    "# We will do a manual train and test split of the data. Because there are 132 days in the dataset I will use the first\n",
    "# 105 days for training and then use the last 14 days for testing \n",
    "lagged_df.dropna(inplace=True)\n",
    "X= lagged_df.iloc[:,-20:]\n",
    "y= lagged_df['Num New Cases']\n",
    "x_train= X[:105]\n",
    "x_test= X[105:]\n",
    "y_train= y[:105]\n",
    "y_test= y[105:]\n",
    "\n",
    "\n",
    "print('Our X variables will be {}.'.format(list(x_train.columns)))\n",
    "print('\\n')\n",
    "\n",
    "# scaling data\n",
    "scaler = StandardScaler()\n",
    "x_train = scaler.fit_transform(x_train)\n",
    "x_test = scaler.transform(x_test)\n",
    "\n",
    "print(x_train.shape)\n",
    "print(y_train.shape)\n",
    "print(x_test.shape)\n",
    "print(y_test.shape)"
   ]
  },
  {
   "cell_type": "code",
   "execution_count": 90,
   "metadata": {},
   "outputs": [
    {
     "name": "stdout",
     "output_type": "stream",
     "text": [
      "R2 TRAIN: 0.8764034057689516\n",
      "R2 TEST: 0.46357813685347404\n"
     ]
    }
   ],
   "source": [
    "linear= linear_model.LinearRegression()\n",
    "linear.fit(x_train, y_train)\n",
    "r2_train= linear.score(x_train, y_train)\n",
    "r2_test= linear.score(x_test, y_test)\n",
    "print('R2 TRAIN: {}'.format(r2_train))\n",
    "print('R2 TEST: {}'.format(r2_test))"
   ]
  },
  {
   "cell_type": "code",
   "execution_count": 91,
   "metadata": {},
   "outputs": [
    {
     "name": "stdout",
     "output_type": "stream",
     "text": [
      "MAE TRAIN: 243.4294602362208\n",
      "MAE TEST: 654.596942501904\n"
     ]
    }
   ],
   "source": [
    "y_pred_train= linear.predict(x_train)\n",
    "y_pred_test= linear.predict(x_test)\n",
    "mae_train= mean_absolute_error(y_train, y_pred_train)\n",
    "mae_test= mean_absolute_error(y_test, y_pred_test)\n",
    "print('MAE TRAIN: {}'.format(mae_train))\n",
    "print('MAE TEST: {}'.format(mae_test))"
   ]
  },
  {
   "cell_type": "code",
   "execution_count": 92,
   "metadata": {},
   "outputs": [
    {
     "data": {
      "image/png": "[encoded data removed]",
      "text/plain": [
       "<Figure size 432x288 with 1 Axes>"
      ]
     },
     "metadata": {
      "needs_background": "light"
     },
     "output_type": "display_data"
    }
   ],
   "source": [
    "y_test_copy= y_test.copy()\n",
    "df= y_test_copy.to_frame()\n",
    "\n",
    "\n",
    "\n",
    "predicted= y_pred_test.tolist()\n",
    "\n",
    "df['Predicted New Cases']= predicted\n",
    "\n",
    "# Line graph\n",
    "sns.lineplot(data= df)\n",
    "plt.title('Linear Regress: All Lagging Variables')\n",
    "sns.despine()\n",
    "plt.savefig('Images/linear_all_lag_line.png')"
   ]
  },
  {
   "cell_type": "code",
   "execution_count": 93,
   "metadata": {},
   "outputs": [
    {
     "data": {
      "text/plain": [
       "Text(0.5, 1.0, 'Residual Plot')"
      ]
     },
     "execution_count": 93,
     "metadata": {},
     "output_type": "execute_result"
    },
    {
     "data": {
      "image/png": "[encoded data removed]",
      "text/plain": [
       "<Figure size 432x288 with 1 Axes>"
      ]
     },
     "metadata": {
      "needs_background": "light"
     },
     "output_type": "display_data"
    }
   ],
   "source": [
    "sns.residplot(y_pred_test, y_test, color=\"g\")\n",
    "plt.title('Residual Plot')"
   ]
  },
  {
   "cell_type": "code",
   "execution_count": 94,
   "metadata": {},
   "outputs": [
    {
     "name": "stdout",
     "output_type": "stream",
     "text": [
      "Lasso Regression\n",
      "Best MAE:  -333.5056855222046\n",
      "Best Params:  {'alpha': 10}\n",
      "\n",
      "\n",
      "Ridge Regression\n",
      "Best MAE:  -318.0509165144147\n",
      "Best Params:  {'alpha': 1}\n",
      "\n",
      "\n",
      "ElasticNet\n",
      "Best MAE:  -326.77513837391035\n",
      "Best Params:  {'alpha': 0.01}\n"
     ]
    }
   ],
   "source": [
    "# Lasso\n",
    "alpha= [0.0001, 0.001, 0.01, 0.1, 1, 10, 100, 1000]\n",
    "param_grid= dict(alpha= alpha)\n",
    "\n",
    "grid= GridSearchCV(linear_model.Lasso(), param_grid, scoring='neg_mean_absolute_error', cv=5)\n",
    "grid_result= grid.fit(x_train, y_train)\n",
    "\n",
    "print('Lasso Regression')\n",
    "print('Best MAE: ', grid_result.best_score_)\n",
    "print('Best Params: ', grid_result.best_params_)\n",
    "print('\\n')\n",
    "\n",
    "alpha= [0.0001, 0.001, 0.01, 0.1, 1, 10, 100, 1000]\n",
    "param_grid= dict(alpha= alpha)\n",
    "\n",
    "# Ridge\n",
    "grid= GridSearchCV(linear_model.Ridge(), param_grid, scoring='neg_mean_absolute_error', cv=5)\n",
    "grid_result= grid.fit(x_train, y_train)\n",
    "\n",
    "print('Ridge Regression')\n",
    "print('Best MAE: ', grid_result.best_score_)\n",
    "print('Best Params: ', grid_result.best_params_)\n",
    "print('\\n')\n",
    "\n",
    "#ElasticNet\n",
    "alpha= [0.0001, 0.001, 0.01, 0.1, 1, 10, 100, 1000]\n",
    "param_grid= dict(alpha= alpha)\n",
    "\n",
    "grid= GridSearchCV(linear_model.ElasticNet(), param_grid, scoring='neg_mean_absolute_error', cv=5)\n",
    "grid_result= grid.fit(x_train, y_train)\n",
    "\n",
    "print('ElasticNet')\n",
    "print('Best MAE: ', grid_result.best_score_)\n",
    "print('Best Params: ', grid_result.best_params_)"
   ]
  },
  {
   "cell_type": "code",
   "execution_count": 95,
   "metadata": {},
   "outputs": [
    {
     "name": "stdout",
     "output_type": "stream",
     "text": [
      "R2 TRAIN: 0.8603284216760024\n",
      "R2 TEST: 0.5849763826468359\n"
     ]
    }
   ],
   "source": [
    "# Ridge had best score so we will now see if it addresses the overfitting\n",
    "ridge= linear_model.Ridge(alpha= 1)\n",
    "ridge.fit(x_train, y_train)\n",
    "r2_train= ridge.score(x_train, y_train)\n",
    "r2_test= ridge.score(x_test, y_test)\n",
    "print('R2 TRAIN: {}'.format(r2_train))\n",
    "print('R2 TEST: {}'.format(r2_test))"
   ]
  },
  {
   "cell_type": "code",
   "execution_count": 96,
   "metadata": {},
   "outputs": [
    {
     "name": "stdout",
     "output_type": "stream",
     "text": [
      "MAE TRAIN: 240.33416077477224\n",
      "MAE TEST: 517.4817462916305\n"
     ]
    }
   ],
   "source": [
    "y_pred_train= ridge.predict(x_train)\n",
    "y_pred_test= ridge.predict(x_test)\n",
    "mae_train= mean_absolute_error(y_train, y_pred_train)\n",
    "mae_test= mean_absolute_error(y_test, y_pred_test)\n",
    "print('MAE TRAIN: {}'.format(mae_train))\n",
    "print('MAE TEST: {}'.format(mae_test))"
   ]
  },
  {
   "cell_type": "code",
   "execution_count": 97,
   "metadata": {},
   "outputs": [
    {
     "data": {
      "image/png": "[encoded data removed]",
      "text/plain": [
       "<Figure size 432x288 with 1 Axes>"
      ]
     },
     "metadata": {
      "needs_background": "light"
     },
     "output_type": "display_data"
    },
    {
     "data": {
      "image/png": "[encoded data removed]",
      "text/plain": [
       "<Figure size 864x576 with 1 Axes>"
      ]
     },
     "metadata": {
      "needs_background": "light"
     },
     "output_type": "display_data"
    }
   ],
   "source": [
    "y_test_copy= y_test.copy()\n",
    "df= y_test_copy.to_frame()\n",
    "\n",
    "\n",
    "\n",
    "predicted= y_pred_test.tolist()\n",
    "\n",
    "df['Predicted New Cases']= predicted\n",
    "\n",
    "# Line graph\n",
    "sns.lineplot(data= df)\n",
    "plt.title('Ridge Regression: All Lagging Variables')\n",
    "sns.despine()\n",
    "plt.savefig('Images/ridge_all_lag_line.png')\n",
    "\n",
    "# Add an error colum to the df\n",
    "df[\"Error\"]= np.abs(df['Num New Cases'] - df['Predicted New Cases'])\n",
    "\n",
    "# Bar graph of predicted vs actual \n",
    "df.plot(kind='bar',figsize=(12,8))\n",
    "plt.grid(which='major', linestyle='-', linewidth='0.5', color='green')\n",
    "plt.grid(which='minor', linestyle=':', linewidth='0.5', color='black')\n",
    "plt.title('Ridge Regression w/ All Lagging Variables Model Performance')\n",
    "plt.ylabel('Number of Cases')\n",
    "sns.despine()\n",
    "plt.grid(b=None)\n",
    "plt.savefig('Images/ridge_bar.png')\n",
    "plt.show()"
   ]
  },
  {
   "cell_type": "code",
   "execution_count": null,
   "metadata": {},
   "outputs": [],
   "source": []
  },
  {
   "cell_type": "code",
   "execution_count": 98,
   "metadata": {},
   "outputs": [
    {
     "data": {
      "text/plain": [
       "Text(0.5, 1.0, 'Residual Plot')"
      ]
     },
     "execution_count": 98,
     "metadata": {},
     "output_type": "execute_result"
    },
    {
     "data": {
      "image/png": "[encoded data removed]",
      "text/plain": [
       "<Figure size 432x288 with 1 Axes>"
      ]
     },
     "metadata": {
      "needs_background": "light"
     },
     "output_type": "display_data"
    }
   ],
   "source": [
    "sns.residplot(y_pred_test, y_test, color=\"g\")\n",
    "plt.title('Residual Plot')"
   ]
  },
  {
   "cell_type": "code",
   "execution_count": 99,
   "metadata": {},
   "outputs": [
    {
     "data": {
      "text/html": [
       "<div>\n",
       "<style scoped>\n",
       "    .dataframe tbody tr th:only-of-type {\n",
       "        vertical-align: middle;\n",
       "    }\n",
       "\n",
       "    .dataframe tbody tr th {\n",
       "        vertical-align: top;\n",
       "    }\n",
       "\n",
       "    .dataframe thead th {\n",
       "        text-align: right;\n",
       "    }\n",
       "</style>\n",
       "<table border=\"1\" class=\"dataframe\">\n",
       "  <thead>\n",
       "    <tr style=\"text-align: right;\">\n",
       "      <th></th>\n",
       "      <th>Coefficient</th>\n",
       "    </tr>\n",
       "  </thead>\n",
       "  <tbody>\n",
       "    <tr>\n",
       "      <th>Num_New_Cases_7_avg</th>\n",
       "      <td>796.137807</td>\n",
       "    </tr>\n",
       "    <tr>\n",
       "      <th>parks_7_avg</th>\n",
       "      <td>340.710968</td>\n",
       "    </tr>\n",
       "    <tr>\n",
       "      <th>residential_7_avg</th>\n",
       "      <td>290.295959</td>\n",
       "    </tr>\n",
       "    <tr>\n",
       "      <th>Num_New_Cases_14_avg</th>\n",
       "      <td>256.873812</td>\n",
       "    </tr>\n",
       "    <tr>\n",
       "      <th>transit gps hits_7_avg</th>\n",
       "      <td>193.211595</td>\n",
       "    </tr>\n",
       "    <tr>\n",
       "      <th>retail_and_recreation_14_avg</th>\n",
       "      <td>135.974464</td>\n",
       "    </tr>\n",
       "    <tr>\n",
       "      <th>retail_and_recreation_7_avg</th>\n",
       "      <td>135.484619</td>\n",
       "    </tr>\n",
       "    <tr>\n",
       "      <th>grocery_and_pharmacy_7_avg</th>\n",
       "      <td>105.368132</td>\n",
       "    </tr>\n",
       "    <tr>\n",
       "      <th>driving gps hits_14_avg</th>\n",
       "      <td>92.650709</td>\n",
       "    </tr>\n",
       "    <tr>\n",
       "      <th>residential_14_avg</th>\n",
       "      <td>64.935358</td>\n",
       "    </tr>\n",
       "    <tr>\n",
       "      <th>transit gps hits_14_avg</th>\n",
       "      <td>62.434001</td>\n",
       "    </tr>\n",
       "    <tr>\n",
       "      <th>transit_7_avg</th>\n",
       "      <td>4.134484</td>\n",
       "    </tr>\n",
       "    <tr>\n",
       "      <th>grocery_and_pharmacy_14_avg</th>\n",
       "      <td>-9.836416</td>\n",
       "    </tr>\n",
       "    <tr>\n",
       "      <th>driving gps hits_7_avg</th>\n",
       "      <td>-22.037480</td>\n",
       "    </tr>\n",
       "    <tr>\n",
       "      <th>parks_14_avg</th>\n",
       "      <td>-29.086344</td>\n",
       "    </tr>\n",
       "    <tr>\n",
       "      <th>walking gps hits_14_avg</th>\n",
       "      <td>-84.644488</td>\n",
       "    </tr>\n",
       "    <tr>\n",
       "      <th>transit_14_avg</th>\n",
       "      <td>-86.314680</td>\n",
       "    </tr>\n",
       "    <tr>\n",
       "      <th>workplace_14_avg</th>\n",
       "      <td>-106.655956</td>\n",
       "    </tr>\n",
       "    <tr>\n",
       "      <th>workplace_7_avg</th>\n",
       "      <td>-109.610435</td>\n",
       "    </tr>\n",
       "    <tr>\n",
       "      <th>walking gps hits_7_avg</th>\n",
       "      <td>-252.301558</td>\n",
       "    </tr>\n",
       "  </tbody>\n",
       "</table>\n",
       "</div>"
      ],
      "text/plain": [
       "                              Coefficient\n",
       "Num_New_Cases_7_avg            796.137807\n",
       "parks_7_avg                    340.710968\n",
       "residential_7_avg              290.295959\n",
       "Num_New_Cases_14_avg           256.873812\n",
       "transit gps hits_7_avg         193.211595\n",
       "retail_and_recreation_14_avg   135.974464\n",
       "retail_and_recreation_7_avg    135.484619\n",
       "grocery_and_pharmacy_7_avg     105.368132\n",
       "driving gps hits_14_avg         92.650709\n",
       "residential_14_avg              64.935358\n",
       "transit gps hits_14_avg         62.434001\n",
       "transit_7_avg                    4.134484\n",
       "grocery_and_pharmacy_14_avg     -9.836416\n",
       "driving gps hits_7_avg         -22.037480\n",
       "parks_14_avg                   -29.086344\n",
       "walking gps hits_14_avg        -84.644488\n",
       "transit_14_avg                 -86.314680\n",
       "workplace_14_avg              -106.655956\n",
       "workplace_7_avg               -109.610435\n",
       "walking gps hits_7_avg        -252.301558"
      ]
     },
     "execution_count": 99,
     "metadata": {},
     "output_type": "execute_result"
    }
   ],
   "source": [
    "coeff_df = pd.DataFrame(ridge.coef_, X.columns, columns=['Coefficient'])  \n",
    "coeff_df.sort_values(by='Coefficient', ascending=False)"
   ]
  },
  {
   "cell_type": "markdown",
   "metadata": {},
   "source": [
    "### Random Forest Regressor"
   ]
  },
  {
   "cell_type": "code",
   "execution_count": 100,
   "metadata": {},
   "outputs": [
    {
     "name": "stdout",
     "output_type": "stream",
     "text": [
      "Our X variables will be ['Num_New_Cases_14_avg', 'Num_New_Cases_7_avg', 'retail_and_recreation_14_avg', 'grocery_and_pharmacy_14_avg', 'parks_14_avg', 'transit_14_avg', 'workplace_14_avg', 'residential_14_avg', 'driving gps hits_14_avg', 'transit gps hits_14_avg', 'walking gps hits_14_avg', 'retail_and_recreation_7_avg', 'grocery_and_pharmacy_7_avg', 'parks_7_avg', 'transit_7_avg', 'workplace_7_avg', 'residential_7_avg', 'driving gps hits_7_avg', 'transit gps hits_7_avg', 'walking gps hits_7_avg'].\n",
      "\n",
      "\n",
      "(105, 20)\n",
      "(105,)\n",
      "(14, 20)\n",
      "(14,)\n",
      "MAE TEST: 1304.5273571428572\n",
      "OOB Score: 0.7839252054022813\n"
     ]
    }
   ],
   "source": [
    "# We will do a manual train and test split of the data. Because there are 132 days in the dataset I will use the first\n",
    "# 105 days for training and then use the last 14 days for testing \n",
    "lagged_df.dropna(inplace=True)\n",
    "X= lagged_df.iloc[:,-20:]\n",
    "y= lagged_df['Num New Cases']\n",
    "x_train= X[:105]\n",
    "x_test= X[105:]\n",
    "y_train= y[:105]\n",
    "y_test= y[105:]\n",
    "\n",
    "\n",
    "print('Our X variables will be {}.'.format(list(x_train.columns)))\n",
    "print('\\n')\n",
    "\n",
    "# scaling data\n",
    "scaler = StandardScaler()\n",
    "x_train = scaler.fit_transform(x_train)\n",
    "x_test = scaler.transform(x_test)\n",
    "\n",
    "print(x_train.shape)\n",
    "print(y_train.shape)\n",
    "print(x_test.shape)\n",
    "print(y_test.shape)\n",
    "\n",
    "# Import the model we are using\n",
    "from sklearn.ensemble import RandomForestRegressor\n",
    "# Instantiate model with 1000 decision trees\n",
    "rf = RandomForestRegressor(n_estimators = 1000, random_state = 42, oob_score=True)\n",
    "# Train the model on training data\n",
    "rf.fit(x_train, y_train)\n",
    "\n",
    "\n",
    "y_pred_test= rf.predict(x_test)\n",
    "mae_test= mean_absolute_error(y_test, y_pred_test)\n",
    "oob_score= rf.oob_score_\n",
    "print('MAE TEST: {}'.format(mae_test))\n",
    "print('OOB Score: {}'.format(oob_score))"
   ]
  },
  {
   "cell_type": "code",
   "execution_count": 101,
   "metadata": {},
   "outputs": [
    {
     "data": {
      "text/plain": [
       "[('grocery_and_pharmacy_14_avg', 0.48041913659899554),\n",
       " ('retail_and_recreation_14_avg', 0.27799747495377813),\n",
       " ('parks_14_avg', 0.023888159300832556),\n",
       " ('workplace_14_avg', 0.019911786512693968),\n",
       " ('retail_and_recreation_7_avg', 0.01765120027507965),\n",
       " ('transit_14_avg', 0.016178728210462262),\n",
       " ('workplace_7_avg', 0.015892585927282866),\n",
       " ('grocery_and_pharmacy_7_avg', 0.012886018626189679),\n",
       " ('parks_7_avg', 0.012175197176259655),\n",
       " ('transit gps hits_7_avg', 0.011565844802062882),\n",
       " ('driving gps hits_14_avg', 0.011535667820128033),\n",
       " ('residential_14_avg', 0.011517040919362776),\n",
       " ('transit_7_avg', 0.01084635122781443),\n",
       " ('walking gps hits_14_avg', 0.01076940335449762),\n",
       " ('walking gps hits_7_avg', 0.010454818660424877),\n",
       " ('residential_7_avg', 0.009869666907473446),\n",
       " ('driving gps hits_7_avg', 0.009621335734350612),\n",
       " ('transit gps hits_14_avg', 0.0095006542644925)]"
      ]
     },
     "execution_count": 101,
     "metadata": {},
     "output_type": "execute_result"
    }
   ],
   "source": [
    "importance= list(rf.feature_importances_)\n",
    "variables= list(lagged_df.iloc[:,-18:].columns)\n",
    "\n",
    "feature_importance= list(zip(variables, importance))\n",
    "feature_importance.sort(key=lambda x:x[1], reverse=True)\n",
    "feature_importance"
   ]
  },
  {
   "cell_type": "code",
   "execution_count": 102,
   "metadata": {},
   "outputs": [
    {
     "name": "stdout",
     "output_type": "stream",
     "text": [
      "{'n_estimators': [200, 400, 600, 800, 1000, 1200, 1400, 1600, 1800, 2000], 'max_features': ['auto', 'sqrt'], 'max_depth': [10, 20, 30, 40, 50, 60, 70, 80, 90, 100, 110, None], 'min_samples_split': [2, 5, 10], 'min_samples_leaf': [1, 2, 4], 'bootstrap': [True, False]}\n"
     ]
    }
   ],
   "source": [
    "from sklearn.model_selection import RandomizedSearchCV\n",
    "# Number of trees in random forest\n",
    "n_estimators = [int(x) for x in np.linspace(start = 200, stop = 2000, num = 10)]\n",
    "# Number of features to consider at every split\n",
    "max_features = ['auto', 'sqrt']\n",
    "# Maximum number of levels in tree\n",
    "max_depth = [int(x) for x in np.linspace(10, 110, num = 11)]\n",
    "max_depth.append(None)\n",
    "# Minimum number of samples required to split a node\n",
    "min_samples_split = [2, 5, 10]\n",
    "# Minimum number of samples required at each leaf node\n",
    "min_samples_leaf = [1, 2, 4]\n",
    "# Method of selecting samples for training each tree\n",
    "bootstrap = [True, False]\n",
    "# Create the random grid\n",
    "random_grid = {'n_estimators': n_estimators,\n",
    "               'max_features': max_features,\n",
    "               'max_depth': max_depth,\n",
    "               'min_samples_split': min_samples_split,\n",
    "               'min_samples_leaf': min_samples_leaf,\n",
    "               'bootstrap': bootstrap}\n",
    "print(random_grid)"
   ]
  },
  {
   "cell_type": "code",
   "execution_count": 43,
   "metadata": {},
   "outputs": [
    {
     "name": "stdout",
     "output_type": "stream",
     "text": [
      "Fitting 3 folds for each of 100 candidates, totalling 300 fits\n"
     ]
    },
    {
     "name": "stderr",
     "output_type": "stream",
     "text": [
      "[Parallel(n_jobs=-1)]: Using backend LokyBackend with 4 concurrent workers.\n",
      "[Parallel(n_jobs=-1)]: Done  33 tasks      | elapsed:   17.5s\n",
      "[Parallel(n_jobs=-1)]: Done 154 tasks      | elapsed:  1.1min\n",
      "[Parallel(n_jobs=-1)]: Done 300 out of 300 | elapsed:  2.2min finished\n"
     ]
    },
    {
     "data": {
      "text/plain": [
       "{'n_estimators': 600,\n",
       " 'min_samples_split': 5,\n",
       " 'min_samples_leaf': 1,\n",
       " 'max_features': 'auto',\n",
       " 'max_depth': 80,\n",
       " 'bootstrap': True}"
      ]
     },
     "execution_count": 43,
     "metadata": {},
     "output_type": "execute_result"
    }
   ],
   "source": [
    "# Use the random grid to search for best hyperparameters\n",
    "# First create the base model to tune\n",
    "rf = RandomForestRegressor()\n",
    "# Random search of parameters, using 3 fold cross validation, \n",
    "# search across 100 different combinations, and use all available cores\n",
    "rf_random = RandomizedSearchCV(estimator = rf, param_distributions = random_grid, n_iter = 100, cv = 3, verbose=2, random_state=42, n_jobs = -1)\n",
    "# Fit the random search model\n",
    "rf_random.fit(x_train, y_train)\n",
    "\n",
    "rf_random.best_params_\n"
   ]
  },
  {
   "cell_type": "code",
   "execution_count": 63,
   "metadata": {},
   "outputs": [
    {
     "name": "stdout",
     "output_type": "stream",
     "text": [
      "MAE TEST: 1216.2703800891563\n",
      "OOB Score: 0.7841663604993723\n"
     ]
    }
   ],
   "source": [
    "# Instantiate model with 1400 decision trees\n",
    "rf = RandomForestRegressor(n_estimators = 600, min_samples_split= 5, min_samples_leaf= 1, max_features= 'auto', max_depth=80, bootstrap=True, oob_score= True, random_state = 42)\n",
    "# Train the model on training data\n",
    "rf.fit(x_train, y_train)\n",
    "\n",
    "\n",
    "y_pred_test= rf.predict(x_test)\n",
    "mae_test= mean_absolute_error(y_test, y_pred_test)\n",
    "print('MAE TEST: {}'.format(mae_test))\n",
    "\n",
    "oob_score= rf.oob_score_\n",
    "print('OOB Score: {}'.format(oob_score))"
   ]
  },
  {
   "cell_type": "markdown",
   "metadata": {},
   "source": [
    "### Conclusions\n",
    "\n",
    "The best model we found for California was a Ridge Regression with an alpha of 1 using lagging variables for all mobility markers as well as the lagging variables for the target variable (Number of New Cases).\n",
    "\n",
    "Two lagging variable were computed for each marker: One which was a running average of the previous 14 days and another that was a running average of the previous 7 days.  "
   ]
  },
  {
   "cell_type": "markdown",
   "metadata": {},
   "source": [
    "Our model improved R2 from -1.22 to 0.58 as compared to the baseline model.\n",
    "\n",
    "Our model improved MAE from 1323.48 to 517.48 as compared to the baseline model. "
   ]
  },
  {
   "cell_type": "code",
   "execution_count": null,
   "metadata": {},
   "outputs": [],
   "source": []
  }
 ],
 "metadata": {
  "kernelspec": {
   "display_name": "Python 3",
   "language": "python",
   "name": "python3"
  },
  "language_info": {
   "codemirror_mode": {
    "name": "ipython",
    "version": 3
   },
   "file_extension": ".py",
   "mimetype": "text/x-python",
   "name": "python",
   "nbconvert_exporter": "python",
   "pygments_lexer": "ipython3",
   "version": "3.7.4"
  }
 },
 "nbformat": 4,
 "nbformat_minor": 2
}
